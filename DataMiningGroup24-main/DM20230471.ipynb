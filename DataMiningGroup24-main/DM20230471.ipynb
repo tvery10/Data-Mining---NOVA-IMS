{
  "nbformat": 4,
  "nbformat_minor": 0,
  "metadata": {
    "colab": {
      "provenance": []
    },
    "kernelspec": {
      "name": "python3",
      "display_name": "Python 3"
    },
    "language_info": {
      "name": "python"
    }
  },
  "cells": [
    {
      "cell_type": "markdown",
      "source": [
        "Data Mining Project"
      ],
      "metadata": {
        "id": "T0ePnThxZ80z"
      }
    },
    {
      "cell_type": "code",
      "execution_count": null,
      "metadata": {
        "colab": {
          "base_uri": "https://localhost:8080/",
          "height": 444
        },
        "id": "cS6wo6nUZ5PB",
        "outputId": "c1a927c0-80a7-4272-8c69-fbfc4ab9b3d5"
      },
      "outputs": [
        {
          "output_type": "execute_result",
          "data": {
            "text/plain": [
              "          ID  Age  Gender  Income EnrollmentStart EnrollmentFinish  \\\n",
              "0      10000   60  Female  5500.0      2019-09-03       2019-10-31   \n",
              "1      10001   29  Female  2630.0      2014-08-12       2015-09-14   \n",
              "2      10002   23    Male  1980.0      2017-05-02       2017-06-01   \n",
              "3      10003    9    Male     0.0      2018-09-05       2019-02-12   \n",
              "4      10004   35    Male  4320.0      2016-04-20       2018-06-07   \n",
              "...      ...  ...     ...     ...             ...              ...   \n",
              "14937  24937   14    Male     0.0      2016-09-08       2016-09-08   \n",
              "14938  24938   39    Male     NaN      2015-09-17       2016-06-04   \n",
              "14939  24939   20    Male  1810.0      2017-03-01       2017-03-31   \n",
              "14940  24940   55    Male  4800.0      2018-03-01       2018-03-01   \n",
              "14941  24941   32  Female  3700.0      2016-04-01       2019-06-11   \n",
              "\n",
              "      LastPeriodStart LastPeriodFinish DateLastVisit  DaysWithoutFrequency  \\\n",
              "0          2019-07-01       2019-12-31    2019-10-30                     1   \n",
              "1          2015-01-01       2015-12-31    2015-07-16                    60   \n",
              "2          2017-01-01       2017-06-30    2017-05-25                     7   \n",
              "3          2018-07-01       2019-06-30    2019-01-21                    22   \n",
              "4          2018-01-01       2018-06-30    2017-11-09                   210   \n",
              "...               ...              ...           ...                   ...   \n",
              "14937      2019-07-01       2019-12-31    2019-10-29                     2   \n",
              "14938      2016-01-01       2016-06-30    2016-04-27                    38   \n",
              "14939      2017-01-01       2017-06-30    2017-03-29                     2   \n",
              "14940      2019-07-01       2019-12-31    2019-10-28                     3   \n",
              "14941      2019-01-01       2019-06-30    2019-05-28                    14   \n",
              "\n",
              "       ...  OtherActivities  NumberOfFrequencies  AttendedClasses  \\\n",
              "0      ...              0.0                  9.0                7   \n",
              "1      ...              0.0                 23.0                1   \n",
              "2      ...              0.0                  6.0                0   \n",
              "3      ...              0.0                 20.0                2   \n",
              "4      ...              NaN                 41.0                0   \n",
              "...    ...              ...                  ...              ...   \n",
              "14937  ...              0.0                112.0               96   \n",
              "14938  ...              0.0                 57.0                0   \n",
              "14939  ...              0.0                  6.0                0   \n",
              "14940  ...              0.0                185.0              155   \n",
              "14941  ...              0.0                169.0                1   \n",
              "\n",
              "       AllowedWeeklyVisitsBySLA  AllowedNumberOfVisitsBySLA  \\\n",
              "0                           NaN                        6.28   \n",
              "1                           2.0                       17.42   \n",
              "2                           7.0                       30.03   \n",
              "3                           2.0                       17.72   \n",
              "4                           7.0                       60.97   \n",
              "...                         ...                         ...   \n",
              "14937                       4.0                       34.84   \n",
              "14938                       7.0                       60.97   \n",
              "14939                       7.0                       30.03   \n",
              "14940                       3.0                       15.87   \n",
              "14941                       7.0                       60.97   \n",
              "\n",
              "       RealNumberOfVisits  NumberOfRenewals  HasReferences  \\\n",
              "0                       2                 0            0.0   \n",
              "1                       1                 2            0.0   \n",
              "2                       6                 0            0.0   \n",
              "3                       3                 0            0.0   \n",
              "4                       0                 3            0.0   \n",
              "...                   ...               ...            ...   \n",
              "14937                   8                 3            0.0   \n",
              "14938                   3                 0            0.0   \n",
              "14939                   8                 0            0.0   \n",
              "14940                   7                 2            0.0   \n",
              "14941                  13                 4            0.0   \n",
              "\n",
              "       NumberOfReferences  Dropout  \n",
              "0                       0        0  \n",
              "1                       0        1  \n",
              "2                       0        1  \n",
              "3                       0        1  \n",
              "4                       0        1  \n",
              "...                   ...      ...  \n",
              "14937                   0        0  \n",
              "14938                   0        1  \n",
              "14939                   0        1  \n",
              "14940                   0        0  \n",
              "14941                   0        1  \n",
              "\n",
              "[14942 rows x 31 columns]"
            ],
            "text/html": [
              "\n",
              "  <div id=\"df-2e71c343-af48-486f-b08c-1cac84a1f41b\" class=\"colab-df-container\">\n",
              "    <div>\n",
              "<style scoped>\n",
              "    .dataframe tbody tr th:only-of-type {\n",
              "        vertical-align: middle;\n",
              "    }\n",
              "\n",
              "    .dataframe tbody tr th {\n",
              "        vertical-align: top;\n",
              "    }\n",
              "\n",
              "    .dataframe thead th {\n",
              "        text-align: right;\n",
              "    }\n",
              "</style>\n",
              "<table border=\"1\" class=\"dataframe\">\n",
              "  <thead>\n",
              "    <tr style=\"text-align: right;\">\n",
              "      <th></th>\n",
              "      <th>ID</th>\n",
              "      <th>Age</th>\n",
              "      <th>Gender</th>\n",
              "      <th>Income</th>\n",
              "      <th>EnrollmentStart</th>\n",
              "      <th>EnrollmentFinish</th>\n",
              "      <th>LastPeriodStart</th>\n",
              "      <th>LastPeriodFinish</th>\n",
              "      <th>DateLastVisit</th>\n",
              "      <th>DaysWithoutFrequency</th>\n",
              "      <th>...</th>\n",
              "      <th>OtherActivities</th>\n",
              "      <th>NumberOfFrequencies</th>\n",
              "      <th>AttendedClasses</th>\n",
              "      <th>AllowedWeeklyVisitsBySLA</th>\n",
              "      <th>AllowedNumberOfVisitsBySLA</th>\n",
              "      <th>RealNumberOfVisits</th>\n",
              "      <th>NumberOfRenewals</th>\n",
              "      <th>HasReferences</th>\n",
              "      <th>NumberOfReferences</th>\n",
              "      <th>Dropout</th>\n",
              "    </tr>\n",
              "  </thead>\n",
              "  <tbody>\n",
              "    <tr>\n",
              "      <th>0</th>\n",
              "      <td>10000</td>\n",
              "      <td>60</td>\n",
              "      <td>Female</td>\n",
              "      <td>5500.0</td>\n",
              "      <td>2019-09-03</td>\n",
              "      <td>2019-10-31</td>\n",
              "      <td>2019-07-01</td>\n",
              "      <td>2019-12-31</td>\n",
              "      <td>2019-10-30</td>\n",
              "      <td>1</td>\n",
              "      <td>...</td>\n",
              "      <td>0.0</td>\n",
              "      <td>9.0</td>\n",
              "      <td>7</td>\n",
              "      <td>NaN</td>\n",
              "      <td>6.28</td>\n",
              "      <td>2</td>\n",
              "      <td>0</td>\n",
              "      <td>0.0</td>\n",
              "      <td>0</td>\n",
              "      <td>0</td>\n",
              "    </tr>\n",
              "    <tr>\n",
              "      <th>1</th>\n",
              "      <td>10001</td>\n",
              "      <td>29</td>\n",
              "      <td>Female</td>\n",
              "      <td>2630.0</td>\n",
              "      <td>2014-08-12</td>\n",
              "      <td>2015-09-14</td>\n",
              "      <td>2015-01-01</td>\n",
              "      <td>2015-12-31</td>\n",
              "      <td>2015-07-16</td>\n",
              "      <td>60</td>\n",
              "      <td>...</td>\n",
              "      <td>0.0</td>\n",
              "      <td>23.0</td>\n",
              "      <td>1</td>\n",
              "      <td>2.0</td>\n",
              "      <td>17.42</td>\n",
              "      <td>1</td>\n",
              "      <td>2</td>\n",
              "      <td>0.0</td>\n",
              "      <td>0</td>\n",
              "      <td>1</td>\n",
              "    </tr>\n",
              "    <tr>\n",
              "      <th>2</th>\n",
              "      <td>10002</td>\n",
              "      <td>23</td>\n",
              "      <td>Male</td>\n",
              "      <td>1980.0</td>\n",
              "      <td>2017-05-02</td>\n",
              "      <td>2017-06-01</td>\n",
              "      <td>2017-01-01</td>\n",
              "      <td>2017-06-30</td>\n",
              "      <td>2017-05-25</td>\n",
              "      <td>7</td>\n",
              "      <td>...</td>\n",
              "      <td>0.0</td>\n",
              "      <td>6.0</td>\n",
              "      <td>0</td>\n",
              "      <td>7.0</td>\n",
              "      <td>30.03</td>\n",
              "      <td>6</td>\n",
              "      <td>0</td>\n",
              "      <td>0.0</td>\n",
              "      <td>0</td>\n",
              "      <td>1</td>\n",
              "    </tr>\n",
              "    <tr>\n",
              "      <th>3</th>\n",
              "      <td>10003</td>\n",
              "      <td>9</td>\n",
              "      <td>Male</td>\n",
              "      <td>0.0</td>\n",
              "      <td>2018-09-05</td>\n",
              "      <td>2019-02-12</td>\n",
              "      <td>2018-07-01</td>\n",
              "      <td>2019-06-30</td>\n",
              "      <td>2019-01-21</td>\n",
              "      <td>22</td>\n",
              "      <td>...</td>\n",
              "      <td>0.0</td>\n",
              "      <td>20.0</td>\n",
              "      <td>2</td>\n",
              "      <td>2.0</td>\n",
              "      <td>17.72</td>\n",
              "      <td>3</td>\n",
              "      <td>0</td>\n",
              "      <td>0.0</td>\n",
              "      <td>0</td>\n",
              "      <td>1</td>\n",
              "    </tr>\n",
              "    <tr>\n",
              "      <th>4</th>\n",
              "      <td>10004</td>\n",
              "      <td>35</td>\n",
              "      <td>Male</td>\n",
              "      <td>4320.0</td>\n",
              "      <td>2016-04-20</td>\n",
              "      <td>2018-06-07</td>\n",
              "      <td>2018-01-01</td>\n",
              "      <td>2018-06-30</td>\n",
              "      <td>2017-11-09</td>\n",
              "      <td>210</td>\n",
              "      <td>...</td>\n",
              "      <td>NaN</td>\n",
              "      <td>41.0</td>\n",
              "      <td>0</td>\n",
              "      <td>7.0</td>\n",
              "      <td>60.97</td>\n",
              "      <td>0</td>\n",
              "      <td>3</td>\n",
              "      <td>0.0</td>\n",
              "      <td>0</td>\n",
              "      <td>1</td>\n",
              "    </tr>\n",
              "    <tr>\n",
              "      <th>...</th>\n",
              "      <td>...</td>\n",
              "      <td>...</td>\n",
              "      <td>...</td>\n",
              "      <td>...</td>\n",
              "      <td>...</td>\n",
              "      <td>...</td>\n",
              "      <td>...</td>\n",
              "      <td>...</td>\n",
              "      <td>...</td>\n",
              "      <td>...</td>\n",
              "      <td>...</td>\n",
              "      <td>...</td>\n",
              "      <td>...</td>\n",
              "      <td>...</td>\n",
              "      <td>...</td>\n",
              "      <td>...</td>\n",
              "      <td>...</td>\n",
              "      <td>...</td>\n",
              "      <td>...</td>\n",
              "      <td>...</td>\n",
              "      <td>...</td>\n",
              "    </tr>\n",
              "    <tr>\n",
              "      <th>14937</th>\n",
              "      <td>24937</td>\n",
              "      <td>14</td>\n",
              "      <td>Male</td>\n",
              "      <td>0.0</td>\n",
              "      <td>2016-09-08</td>\n",
              "      <td>2016-09-08</td>\n",
              "      <td>2019-07-01</td>\n",
              "      <td>2019-12-31</td>\n",
              "      <td>2019-10-29</td>\n",
              "      <td>2</td>\n",
              "      <td>...</td>\n",
              "      <td>0.0</td>\n",
              "      <td>112.0</td>\n",
              "      <td>96</td>\n",
              "      <td>4.0</td>\n",
              "      <td>34.84</td>\n",
              "      <td>8</td>\n",
              "      <td>3</td>\n",
              "      <td>0.0</td>\n",
              "      <td>0</td>\n",
              "      <td>0</td>\n",
              "    </tr>\n",
              "    <tr>\n",
              "      <th>14938</th>\n",
              "      <td>24938</td>\n",
              "      <td>39</td>\n",
              "      <td>Male</td>\n",
              "      <td>NaN</td>\n",
              "      <td>2015-09-17</td>\n",
              "      <td>2016-06-04</td>\n",
              "      <td>2016-01-01</td>\n",
              "      <td>2016-06-30</td>\n",
              "      <td>2016-04-27</td>\n",
              "      <td>38</td>\n",
              "      <td>...</td>\n",
              "      <td>0.0</td>\n",
              "      <td>57.0</td>\n",
              "      <td>0</td>\n",
              "      <td>7.0</td>\n",
              "      <td>60.97</td>\n",
              "      <td>3</td>\n",
              "      <td>0</td>\n",
              "      <td>0.0</td>\n",
              "      <td>0</td>\n",
              "      <td>1</td>\n",
              "    </tr>\n",
              "    <tr>\n",
              "      <th>14939</th>\n",
              "      <td>24939</td>\n",
              "      <td>20</td>\n",
              "      <td>Male</td>\n",
              "      <td>1810.0</td>\n",
              "      <td>2017-03-01</td>\n",
              "      <td>2017-03-31</td>\n",
              "      <td>2017-01-01</td>\n",
              "      <td>2017-06-30</td>\n",
              "      <td>2017-03-29</td>\n",
              "      <td>2</td>\n",
              "      <td>...</td>\n",
              "      <td>0.0</td>\n",
              "      <td>6.0</td>\n",
              "      <td>0</td>\n",
              "      <td>7.0</td>\n",
              "      <td>30.03</td>\n",
              "      <td>8</td>\n",
              "      <td>0</td>\n",
              "      <td>0.0</td>\n",
              "      <td>0</td>\n",
              "      <td>1</td>\n",
              "    </tr>\n",
              "    <tr>\n",
              "      <th>14940</th>\n",
              "      <td>24940</td>\n",
              "      <td>55</td>\n",
              "      <td>Male</td>\n",
              "      <td>4800.0</td>\n",
              "      <td>2018-03-01</td>\n",
              "      <td>2018-03-01</td>\n",
              "      <td>2019-07-01</td>\n",
              "      <td>2019-12-31</td>\n",
              "      <td>2019-10-28</td>\n",
              "      <td>3</td>\n",
              "      <td>...</td>\n",
              "      <td>0.0</td>\n",
              "      <td>185.0</td>\n",
              "      <td>155</td>\n",
              "      <td>3.0</td>\n",
              "      <td>15.87</td>\n",
              "      <td>7</td>\n",
              "      <td>2</td>\n",
              "      <td>0.0</td>\n",
              "      <td>0</td>\n",
              "      <td>0</td>\n",
              "    </tr>\n",
              "    <tr>\n",
              "      <th>14941</th>\n",
              "      <td>24941</td>\n",
              "      <td>32</td>\n",
              "      <td>Female</td>\n",
              "      <td>3700.0</td>\n",
              "      <td>2016-04-01</td>\n",
              "      <td>2019-06-11</td>\n",
              "      <td>2019-01-01</td>\n",
              "      <td>2019-06-30</td>\n",
              "      <td>2019-05-28</td>\n",
              "      <td>14</td>\n",
              "      <td>...</td>\n",
              "      <td>0.0</td>\n",
              "      <td>169.0</td>\n",
              "      <td>1</td>\n",
              "      <td>7.0</td>\n",
              "      <td>60.97</td>\n",
              "      <td>13</td>\n",
              "      <td>4</td>\n",
              "      <td>0.0</td>\n",
              "      <td>0</td>\n",
              "      <td>1</td>\n",
              "    </tr>\n",
              "  </tbody>\n",
              "</table>\n",
              "<p>14942 rows × 31 columns</p>\n",
              "</div>\n",
              "    <div class=\"colab-df-buttons\">\n",
              "\n",
              "  <div class=\"colab-df-container\">\n",
              "    <button class=\"colab-df-convert\" onclick=\"convertToInteractive('df-2e71c343-af48-486f-b08c-1cac84a1f41b')\"\n",
              "            title=\"Convert this dataframe to an interactive table.\"\n",
              "            style=\"display:none;\">\n",
              "\n",
              "  <svg xmlns=\"http://www.w3.org/2000/svg\" height=\"24px\" viewBox=\"0 -960 960 960\">\n",
              "    <path d=\"M120-120v-720h720v720H120Zm60-500h600v-160H180v160Zm220 220h160v-160H400v160Zm0 220h160v-160H400v160ZM180-400h160v-160H180v160Zm440 0h160v-160H620v160ZM180-180h160v-160H180v160Zm440 0h160v-160H620v160Z\"/>\n",
              "  </svg>\n",
              "    </button>\n",
              "\n",
              "  <style>\n",
              "    .colab-df-container {\n",
              "      display:flex;\n",
              "      gap: 12px;\n",
              "    }\n",
              "\n",
              "    .colab-df-convert {\n",
              "      background-color: #E8F0FE;\n",
              "      border: none;\n",
              "      border-radius: 50%;\n",
              "      cursor: pointer;\n",
              "      display: none;\n",
              "      fill: #1967D2;\n",
              "      height: 32px;\n",
              "      padding: 0 0 0 0;\n",
              "      width: 32px;\n",
              "    }\n",
              "\n",
              "    .colab-df-convert:hover {\n",
              "      background-color: #E2EBFA;\n",
              "      box-shadow: 0px 1px 2px rgba(60, 64, 67, 0.3), 0px 1px 3px 1px rgba(60, 64, 67, 0.15);\n",
              "      fill: #174EA6;\n",
              "    }\n",
              "\n",
              "    .colab-df-buttons div {\n",
              "      margin-bottom: 4px;\n",
              "    }\n",
              "\n",
              "    [theme=dark] .colab-df-convert {\n",
              "      background-color: #3B4455;\n",
              "      fill: #D2E3FC;\n",
              "    }\n",
              "\n",
              "    [theme=dark] .colab-df-convert:hover {\n",
              "      background-color: #434B5C;\n",
              "      box-shadow: 0px 1px 3px 1px rgba(0, 0, 0, 0.15);\n",
              "      filter: drop-shadow(0px 1px 2px rgba(0, 0, 0, 0.3));\n",
              "      fill: #FFFFFF;\n",
              "    }\n",
              "  </style>\n",
              "\n",
              "    <script>\n",
              "      const buttonEl =\n",
              "        document.querySelector('#df-2e71c343-af48-486f-b08c-1cac84a1f41b button.colab-df-convert');\n",
              "      buttonEl.style.display =\n",
              "        google.colab.kernel.accessAllowed ? 'block' : 'none';\n",
              "\n",
              "      async function convertToInteractive(key) {\n",
              "        const element = document.querySelector('#df-2e71c343-af48-486f-b08c-1cac84a1f41b');\n",
              "        const dataTable =\n",
              "          await google.colab.kernel.invokeFunction('convertToInteractive',\n",
              "                                                    [key], {});\n",
              "        if (!dataTable) return;\n",
              "\n",
              "        const docLinkHtml = 'Like what you see? Visit the ' +\n",
              "          '<a target=\"_blank\" href=https://colab.research.google.com/notebooks/data_table.ipynb>data table notebook</a>'\n",
              "          + ' to learn more about interactive tables.';\n",
              "        element.innerHTML = '';\n",
              "        dataTable['output_type'] = 'display_data';\n",
              "        await google.colab.output.renderOutput(dataTable, element);\n",
              "        const docLink = document.createElement('div');\n",
              "        docLink.innerHTML = docLinkHtml;\n",
              "        element.appendChild(docLink);\n",
              "      }\n",
              "    </script>\n",
              "  </div>\n",
              "\n",
              "\n",
              "<div id=\"df-5341be3e-4103-437d-be9d-5621a20fa566\">\n",
              "  <button class=\"colab-df-quickchart\" onclick=\"quickchart('df-5341be3e-4103-437d-be9d-5621a20fa566')\"\n",
              "            title=\"Suggest charts.\"\n",
              "            style=\"display:none;\">\n",
              "\n",
              "<svg xmlns=\"http://www.w3.org/2000/svg\" height=\"24px\"viewBox=\"0 0 24 24\"\n",
              "     width=\"24px\">\n",
              "    <g>\n",
              "        <path d=\"M19 3H5c-1.1 0-2 .9-2 2v14c0 1.1.9 2 2 2h14c1.1 0 2-.9 2-2V5c0-1.1-.9-2-2-2zM9 17H7v-7h2v7zm4 0h-2V7h2v10zm4 0h-2v-4h2v4z\"/>\n",
              "    </g>\n",
              "</svg>\n",
              "  </button>\n",
              "\n",
              "<style>\n",
              "  .colab-df-quickchart {\n",
              "      --bg-color: #E8F0FE;\n",
              "      --fill-color: #1967D2;\n",
              "      --hover-bg-color: #E2EBFA;\n",
              "      --hover-fill-color: #174EA6;\n",
              "      --disabled-fill-color: #AAA;\n",
              "      --disabled-bg-color: #DDD;\n",
              "  }\n",
              "\n",
              "  [theme=dark] .colab-df-quickchart {\n",
              "      --bg-color: #3B4455;\n",
              "      --fill-color: #D2E3FC;\n",
              "      --hover-bg-color: #434B5C;\n",
              "      --hover-fill-color: #FFFFFF;\n",
              "      --disabled-bg-color: #3B4455;\n",
              "      --disabled-fill-color: #666;\n",
              "  }\n",
              "\n",
              "  .colab-df-quickchart {\n",
              "    background-color: var(--bg-color);\n",
              "    border: none;\n",
              "    border-radius: 50%;\n",
              "    cursor: pointer;\n",
              "    display: none;\n",
              "    fill: var(--fill-color);\n",
              "    height: 32px;\n",
              "    padding: 0;\n",
              "    width: 32px;\n",
              "  }\n",
              "\n",
              "  .colab-df-quickchart:hover {\n",
              "    background-color: var(--hover-bg-color);\n",
              "    box-shadow: 0 1px 2px rgba(60, 64, 67, 0.3), 0 1px 3px 1px rgba(60, 64, 67, 0.15);\n",
              "    fill: var(--button-hover-fill-color);\n",
              "  }\n",
              "\n",
              "  .colab-df-quickchart-complete:disabled,\n",
              "  .colab-df-quickchart-complete:disabled:hover {\n",
              "    background-color: var(--disabled-bg-color);\n",
              "    fill: var(--disabled-fill-color);\n",
              "    box-shadow: none;\n",
              "  }\n",
              "\n",
              "  .colab-df-spinner {\n",
              "    border: 2px solid var(--fill-color);\n",
              "    border-color: transparent;\n",
              "    border-bottom-color: var(--fill-color);\n",
              "    animation:\n",
              "      spin 1s steps(1) infinite;\n",
              "  }\n",
              "\n",
              "  @keyframes spin {\n",
              "    0% {\n",
              "      border-color: transparent;\n",
              "      border-bottom-color: var(--fill-color);\n",
              "      border-left-color: var(--fill-color);\n",
              "    }\n",
              "    20% {\n",
              "      border-color: transparent;\n",
              "      border-left-color: var(--fill-color);\n",
              "      border-top-color: var(--fill-color);\n",
              "    }\n",
              "    30% {\n",
              "      border-color: transparent;\n",
              "      border-left-color: var(--fill-color);\n",
              "      border-top-color: var(--fill-color);\n",
              "      border-right-color: var(--fill-color);\n",
              "    }\n",
              "    40% {\n",
              "      border-color: transparent;\n",
              "      border-right-color: var(--fill-color);\n",
              "      border-top-color: var(--fill-color);\n",
              "    }\n",
              "    60% {\n",
              "      border-color: transparent;\n",
              "      border-right-color: var(--fill-color);\n",
              "    }\n",
              "    80% {\n",
              "      border-color: transparent;\n",
              "      border-right-color: var(--fill-color);\n",
              "      border-bottom-color: var(--fill-color);\n",
              "    }\n",
              "    90% {\n",
              "      border-color: transparent;\n",
              "      border-bottom-color: var(--fill-color);\n",
              "    }\n",
              "  }\n",
              "</style>\n",
              "\n",
              "  <script>\n",
              "    async function quickchart(key) {\n",
              "      const quickchartButtonEl =\n",
              "        document.querySelector('#' + key + ' button');\n",
              "      quickchartButtonEl.disabled = true;  // To prevent multiple clicks.\n",
              "      quickchartButtonEl.classList.add('colab-df-spinner');\n",
              "      try {\n",
              "        const charts = await google.colab.kernel.invokeFunction(\n",
              "            'suggestCharts', [key], {});\n",
              "      } catch (error) {\n",
              "        console.error('Error during call to suggestCharts:', error);\n",
              "      }\n",
              "      quickchartButtonEl.classList.remove('colab-df-spinner');\n",
              "      quickchartButtonEl.classList.add('colab-df-quickchart-complete');\n",
              "    }\n",
              "    (() => {\n",
              "      let quickchartButtonEl =\n",
              "        document.querySelector('#df-5341be3e-4103-437d-be9d-5621a20fa566 button');\n",
              "      quickchartButtonEl.style.display =\n",
              "        google.colab.kernel.accessAllowed ? 'block' : 'none';\n",
              "    })();\n",
              "  </script>\n",
              "</div>\n",
              "    </div>\n",
              "  </div>\n"
            ]
          },
          "metadata": {},
          "execution_count": 9
        }
      ],
      "source": [
        "import pandas as pd\n",
        "\n",
        "# Passo 1: Carregar o conjunto de dados\n",
        "dataset = pd.read_csv(\"XYZ_sports_dataset.csv\", delimiter=';')\n",
        "\n",
        "dataset"
      ]
    },
    {
      "cell_type": "code",
      "source": [
        "# Passo 2: Análise exploratória dos dados\n",
        "# Visualizar as primeiras linhas do conjunto de dados\n",
        "print(dataset.head())"
      ],
      "metadata": {
        "colab": {
          "base_uri": "https://localhost:8080/"
        },
        "id": "kkUs_SDAZ8h6",
        "outputId": "d56ebabf-68f2-41a1-d300-c5c5c5175524"
      },
      "execution_count": null,
      "outputs": [
        {
          "output_type": "stream",
          "name": "stdout",
          "text": [
            "      ID  Age  Gender  Income EnrollmentStart EnrollmentFinish  \\\n",
            "0  10000   60  Female  5500.0      2019-09-03       2019-10-31   \n",
            "1  10001   29  Female  2630.0      2014-08-12       2015-09-14   \n",
            "2  10002   23    Male  1980.0      2017-05-02       2017-06-01   \n",
            "3  10003    9    Male     0.0      2018-09-05       2019-02-12   \n",
            "4  10004   35    Male  4320.0      2016-04-20       2018-06-07   \n",
            "\n",
            "  LastPeriodStart LastPeriodFinish DateLastVisit  DaysWithoutFrequency  ...  \\\n",
            "0      2019-07-01       2019-12-31    2019-10-30                     1  ...   \n",
            "1      2015-01-01       2015-12-31    2015-07-16                    60  ...   \n",
            "2      2017-01-01       2017-06-30    2017-05-25                     7  ...   \n",
            "3      2018-07-01       2019-06-30    2019-01-21                    22  ...   \n",
            "4      2018-01-01       2018-06-30    2017-11-09                   210  ...   \n",
            "\n",
            "   OtherActivities  NumberOfFrequencies  AttendedClasses  \\\n",
            "0              0.0                  9.0                7   \n",
            "1              0.0                 23.0                1   \n",
            "2              0.0                  6.0                0   \n",
            "3              0.0                 20.0                2   \n",
            "4              NaN                 41.0                0   \n",
            "\n",
            "   AllowedWeeklyVisitsBySLA  AllowedNumberOfVisitsBySLA  RealNumberOfVisits  \\\n",
            "0                       NaN                        6.28                   2   \n",
            "1                       2.0                       17.42                   1   \n",
            "2                       7.0                       30.03                   6   \n",
            "3                       2.0                       17.72                   3   \n",
            "4                       7.0                       60.97                   0   \n",
            "\n",
            "   NumberOfRenewals  HasReferences  NumberOfReferences  Dropout  \n",
            "0                 0            0.0                   0        0  \n",
            "1                 2            0.0                   0        1  \n",
            "2                 0            0.0                   0        1  \n",
            "3                 0            0.0                   0        1  \n",
            "4                 3            0.0                   0        1  \n",
            "\n",
            "[5 rows x 31 columns]\n"
          ]
        }
      ]
    },
    {
      "cell_type": "code",
      "source": [
        "# Informações gerais sobre o conjunto de dados\n",
        "print(dataset.info())"
      ],
      "metadata": {
        "colab": {
          "base_uri": "https://localhost:8080/"
        },
        "id": "9zuLXmyqZ9kD",
        "outputId": "20cc0f13-765e-47d2-ecf4-bbebd85ebf00"
      },
      "execution_count": null,
      "outputs": [
        {
          "output_type": "stream",
          "name": "stdout",
          "text": [
            "<class 'pandas.core.frame.DataFrame'>\n",
            "RangeIndex: 14942 entries, 0 to 14941\n",
            "Data columns (total 31 columns):\n",
            " #   Column                      Non-Null Count  Dtype  \n",
            "---  ------                      --------------  -----  \n",
            " 0   ID                          14942 non-null  int64  \n",
            " 1   Age                         14942 non-null  int64  \n",
            " 2   Gender                      14942 non-null  object \n",
            " 3   Income                      14447 non-null  float64\n",
            " 4   EnrollmentStart             14942 non-null  object \n",
            " 5   EnrollmentFinish            14942 non-null  object \n",
            " 6   LastPeriodStart             14942 non-null  object \n",
            " 7   LastPeriodFinish            14942 non-null  object \n",
            " 8   DateLastVisit               14942 non-null  object \n",
            " 9   DaysWithoutFrequency        14942 non-null  int64  \n",
            " 10  LifetimeValue               14942 non-null  float64\n",
            " 11  UseByTime                   14942 non-null  int64  \n",
            " 12  AthleticsActivities         14906 non-null  float64\n",
            " 13  WaterActivities             14905 non-null  float64\n",
            " 14  FitnessActivities           14907 non-null  float64\n",
            " 15  DanceActivities             14906 non-null  float64\n",
            " 16  TeamActivities              14907 non-null  float64\n",
            " 17  RacketActivities            14905 non-null  float64\n",
            " 18  CombatActivities            14909 non-null  float64\n",
            " 19  NatureActivities            14895 non-null  float64\n",
            " 20  SpecialActivities           14898 non-null  float64\n",
            " 21  OtherActivities             14907 non-null  float64\n",
            " 22  NumberOfFrequencies         14916 non-null  float64\n",
            " 23  AttendedClasses             14942 non-null  int64  \n",
            " 24  AllowedWeeklyVisitsBySLA    14407 non-null  float64\n",
            " 25  AllowedNumberOfVisitsBySLA  14942 non-null  float64\n",
            " 26  RealNumberOfVisits          14942 non-null  int64  \n",
            " 27  NumberOfRenewals            14942 non-null  int64  \n",
            " 28  HasReferences               14930 non-null  float64\n",
            " 29  NumberOfReferences          14942 non-null  int64  \n",
            " 30  Dropout                     14942 non-null  int64  \n",
            "dtypes: float64(16), int64(9), object(6)\n",
            "memory usage: 3.5+ MB\n",
            "None\n"
          ]
        }
      ]
    },
    {
      "cell_type": "code",
      "source": [
        "# Estatísticas descritivas das variáveis numéricas\n",
        "print(dataset.describe())"
      ],
      "metadata": {
        "colab": {
          "base_uri": "https://localhost:8080/"
        },
        "id": "Z7NjC9__ancO",
        "outputId": "1bc716af-0be3-4cb0-da20-cfdf82010221"
      },
      "execution_count": null,
      "outputs": [
        {
          "output_type": "stream",
          "name": "stdout",
          "text": [
            "                 ID           Age        Income  DaysWithoutFrequency  \\\n",
            "count  14942.000000  14942.000000  14447.000000          14942.000000   \n",
            "mean   17470.500000     26.015794   2230.816086             81.224936   \n",
            "std     4313.528196     14.156582   1566.527734            144.199576   \n",
            "min    10000.000000      0.000000      0.000000              0.000000   \n",
            "25%    13735.250000     19.000000   1470.000000             13.000000   \n",
            "50%    17470.500000     23.000000   1990.000000             41.000000   \n",
            "75%    21205.750000     31.000000   2790.000000             83.750000   \n",
            "max    24941.000000     87.000000  10890.000000           1745.000000   \n",
            "\n",
            "       LifetimeValue     UseByTime  AthleticsActivities  WaterActivities  \\\n",
            "count   14942.000000  14942.000000          14906.00000     14905.000000   \n",
            "mean      302.561871      0.047116              0.00738         0.296209   \n",
            "std       364.319566      0.211893              0.08559         0.456600   \n",
            "min         0.000000      0.000000              0.00000         0.000000   \n",
            "25%        83.600000      0.000000              0.00000         0.000000   \n",
            "50%       166.200000      0.000000              0.00000         0.000000   \n",
            "75%       355.075000      0.000000              0.00000         1.000000   \n",
            "max      6727.800000      1.000000              1.00000         1.000000   \n",
            "\n",
            "       FitnessActivities  DanceActivities  ...  OtherActivities  \\\n",
            "count       14907.000000          14906.0  ...     14907.000000   \n",
            "mean            0.576038              0.0  ...         0.001878   \n",
            "std             0.494201              0.0  ...         0.043300   \n",
            "min             0.000000              0.0  ...         0.000000   \n",
            "25%             0.000000              0.0  ...         0.000000   \n",
            "50%             1.000000              0.0  ...         0.000000   \n",
            "75%             1.000000              0.0  ...         0.000000   \n",
            "max             1.000000              0.0  ...         1.000000   \n",
            "\n",
            "       NumberOfFrequencies  AttendedClasses  AllowedWeeklyVisitsBySLA  \\\n",
            "count         14916.000000     14942.000000              14407.000000   \n",
            "mean             40.120542        10.152456                  5.759561   \n",
            "std              65.466459        29.154202                  2.118867   \n",
            "min               1.000000         0.000000                  1.000000   \n",
            "25%               7.000000         0.000000                  4.000000   \n",
            "50%              18.000000         0.000000                  7.000000   \n",
            "75%              45.000000         3.000000                  7.000000   \n",
            "max            1031.000000       581.000000                  7.000000   \n",
            "\n",
            "       AllowedNumberOfVisitsBySLA  RealNumberOfVisits  NumberOfRenewals  \\\n",
            "count                14942.000000        14942.000000      14942.000000   \n",
            "mean                    41.636299            5.320707          1.205260   \n",
            "std                     21.066166            6.332958          1.381305   \n",
            "min                      0.560000            0.000000          0.000000   \n",
            "25%                     25.720000            1.000000          0.000000   \n",
            "50%                     38.990000            4.000000          1.000000   \n",
            "75%                     60.970000            7.000000          2.000000   \n",
            "max                    240.030000           84.000000          6.000000   \n",
            "\n",
            "       HasReferences  NumberOfReferences       Dropout  \n",
            "count   14930.000000        14942.000000  14942.000000  \n",
            "mean        0.019893            0.022286      0.800964  \n",
            "std         0.139637            0.166777      0.399289  \n",
            "min         0.000000            0.000000      0.000000  \n",
            "25%         0.000000            0.000000      1.000000  \n",
            "50%         0.000000            0.000000      1.000000  \n",
            "75%         0.000000            0.000000      1.000000  \n",
            "max         1.000000            3.000000      1.000000  \n",
            "\n",
            "[8 rows x 25 columns]\n"
          ]
        }
      ]
    },
    {
      "cell_type": "code",
      "source": [
        "# Verificar valores ausentes\n",
        "print(dataset.isnull().sum())"
      ],
      "metadata": {
        "colab": {
          "base_uri": "https://localhost:8080/"
        },
        "id": "9gk1imsKap79",
        "outputId": "1c566fc0-8c23-4216-988f-2d3036ce0402"
      },
      "execution_count": null,
      "outputs": [
        {
          "output_type": "stream",
          "name": "stdout",
          "text": [
            "ID                              0\n",
            "Age                             0\n",
            "Gender                          0\n",
            "Income                        495\n",
            "EnrollmentStart                 0\n",
            "EnrollmentFinish                0\n",
            "LastPeriodStart                 0\n",
            "LastPeriodFinish                0\n",
            "DateLastVisit                   0\n",
            "DaysWithoutFrequency            0\n",
            "LifetimeValue                   0\n",
            "UseByTime                       0\n",
            "AthleticsActivities            36\n",
            "WaterActivities                37\n",
            "FitnessActivities              35\n",
            "DanceActivities                36\n",
            "TeamActivities                 35\n",
            "RacketActivities               37\n",
            "CombatActivities               33\n",
            "NatureActivities               47\n",
            "SpecialActivities              44\n",
            "OtherActivities                35\n",
            "NumberOfFrequencies            26\n",
            "AttendedClasses                 0\n",
            "AllowedWeeklyVisitsBySLA      535\n",
            "AllowedNumberOfVisitsBySLA      0\n",
            "RealNumberOfVisits              0\n",
            "NumberOfRenewals                0\n",
            "HasReferences                  12\n",
            "NumberOfReferences              0\n",
            "Dropout                         0\n",
            "dtype: int64\n"
          ]
        }
      ]
    },
    {
      "cell_type": "code",
      "source": [
        "# Contagem de valores únicos nas variáveis categóricas\n",
        "print(dataset['Gender'].value_counts())"
      ],
      "metadata": {
        "colab": {
          "base_uri": "https://localhost:8080/"
        },
        "id": "39XEAeU_atgT",
        "outputId": "d5b36386-33cd-42ec-84d9-a88e40da0601"
      },
      "execution_count": null,
      "outputs": [
        {
          "output_type": "stream",
          "name": "stdout",
          "text": [
            "Female    8931\n",
            "Male      6011\n",
            "Name: Gender, dtype: int64\n"
          ]
        }
      ]
    },
    {
      "cell_type": "code",
      "source": [
        "# Calcula a média dos valores na coluna 'Income' que sejam maiores que 0\n",
        "mean_income = dataset[dataset['Income'] > 0]['Income'].mean()\n",
        "\n",
        "# Cria uma nova coluna 'Income_filled' com os valores preenchidos\n",
        "dataset['Income_filled'] = dataset['Income'].fillna(mean_income)"
      ],
      "metadata": {
        "id": "GVjczoXJavwL"
      },
      "execution_count": null,
      "outputs": []
    },
    {
      "cell_type": "code",
      "source": [
        "mean_filled_income = dataset['Income_filled'].mean()\n",
        "print(\"Média da coluna 'Income_filled':\", mean_filled_income)"
      ],
      "metadata": {
        "colab": {
          "base_uri": "https://localhost:8080/"
        },
        "id": "lsoviJE1a4qx",
        "outputId": "f4492cbd-4028-407c-f65f-00747417a7a2"
      },
      "execution_count": null,
      "outputs": [
        {
          "output_type": "stream",
          "name": "stdout",
          "text": [
            "Média da coluna 'Income_filled': 2243.5469697370568\n"
          ]
        }
      ]
    },
    {
      "cell_type": "code",
      "source": [
        "# Calcula a média de todos os valores na coluna 'Income'\n",
        "mean_all_income = dataset['Income'].mean()\n",
        "\n",
        "# Cria uma nova coluna 'Income_filled_all' com os valores substituídos\n",
        "dataset['Income_filled_all'] = dataset['Income'].fillna(mean_all_income)\n",
        "\n",
        "mean_filled_income2 = dataset['Income_filled_all'].mean()\n",
        "print(\"Média da coluna 'Income_filled_all':\", mean_filled_income2)"
      ],
      "metadata": {
        "colab": {
          "base_uri": "https://localhost:8080/"
        },
        "id": "cmjubqVfba3k",
        "outputId": "8b7ff4e4-b5fc-4cf5-cb97-3fb84dc5e323"
      },
      "execution_count": null,
      "outputs": [
        {
          "output_type": "stream",
          "name": "stdout",
          "text": [
            "Média da coluna 'Income_filled_all': 2230.8160863847165\n"
          ]
        }
      ]
    },
    {
      "cell_type": "code",
      "source": [
        "# Conta quantos valores na coluna 'Income' são iguais a 0\n",
        "zero_income_count = (dataset['Income'] == 0).sum()\n",
        "\n",
        "print(\"Número de valores iguais a 0 na coluna 'Income':\", zero_income_count)\n"
      ],
      "metadata": {
        "colab": {
          "base_uri": "https://localhost:8080/"
        },
        "id": "D81pvqnRe0ip",
        "outputId": "bbd8bc7c-aa54-4af4-b1ab-5674e0d2d061"
      },
      "execution_count": null,
      "outputs": [
        {
          "output_type": "stream",
          "name": "stdout",
          "text": [
            "Número de valores iguais a 0 na coluna 'Income': 2123\n"
          ]
        }
      ]
    },
    {
      "cell_type": "code",
      "source": [
        "# Conta quantos valores na coluna 'Income' são iguais a 0\n",
        "zero_income_count = (dataset['Income'] == 0).sum()\n",
        "\n",
        "# Calcula a porcentagem em relação ao total de valores não NaN\n",
        "total_non_nan_count = dataset['Income'].count()\n",
        "percentage_zero_income = (zero_income_count / total_non_nan_count) * 100\n",
        "\n",
        "print(\"Percentagem de valores iguais a 0 em relação ao total de valores não NaN na coluna 'Income': {:.2f}%\".format(percentage_zero_income))"
      ],
      "metadata": {
        "colab": {
          "base_uri": "https://localhost:8080/"
        },
        "id": "baLpou_af5jY",
        "outputId": "a30ddde9-d84c-42f5-cded-fec4aaa9c73b"
      },
      "execution_count": null,
      "outputs": [
        {
          "output_type": "stream",
          "name": "stdout",
          "text": [
            "Percentagem de valores iguais a 0 em relação ao total de valores não NaN na coluna 'Income': 14.70%\n"
          ]
        }
      ]
    },
    {
      "cell_type": "code",
      "source": [
        "# Conta os valores NaN na coluna 'Income' para linhas em que 'Age' seja inferior a 18\n",
        "nan_income_under_18_count = dataset[dataset['Age'] < 18]['Income'].isna().sum()\n",
        "\n",
        "print(\"Número de valores NaN na coluna 'Income' para linhas com 'Age' inferior a 18:\", nan_income_under_18_count)\n"
      ],
      "metadata": {
        "colab": {
          "base_uri": "https://localhost:8080/"
        },
        "id": "y7Bc3GrdgL-t",
        "outputId": "1b76aaf1-d05d-4658-e7ab-3ba201003dc1"
      },
      "execution_count": null,
      "outputs": [
        {
          "output_type": "stream",
          "name": "stdout",
          "text": [
            "Número de valores NaN na coluna 'Income' para linhas com 'Age' inferior a 18: 363\n"
          ]
        }
      ]
    },
    {
      "cell_type": "code",
      "source": [
        "# Filtra o DataFrame para incluir apenas as entradas com 'Income' superior a 0\n",
        "income_gt_zero = dataset[dataset['Income'] > 0]\n",
        "\n",
        "# Conta o número de pessoas por idade que têm income superior a 0\n",
        "count_by_age = income_gt_zero['Age'].value_counts()\n",
        "\n",
        "print(count_by_age)\n"
      ],
      "metadata": {
        "colab": {
          "base_uri": "https://localhost:8080/"
        },
        "id": "V_IRQdvUgOgZ",
        "outputId": "b9a93626-8856-4628-b089-f2cc81d7cfe6"
      },
      "execution_count": null,
      "outputs": [
        {
          "output_type": "stream",
          "name": "stdout",
          "text": [
            "22    1173\n",
            "21    1154\n",
            "20     977\n",
            "23     942\n",
            "19     889\n",
            "      ... \n",
            "87       1\n",
            "11       1\n",
            "9        1\n",
            "86       1\n",
            "4        1\n",
            "Name: Age, Length: 80, dtype: int64\n"
          ]
        }
      ]
    },
    {
      "cell_type": "code",
      "source": [
        "# Filtra o DataFrame para incluir apenas as entradas com 'Income' superior a 0 e idade igual a 4\n",
        "income_gt_zero_age_4 = dataset[(dataset['Income'] > 0) & (dataset['Age'] == 4)]\n",
        "\n",
        "# Exibe os valores de 'Income'\n",
        "print(income_gt_zero_age_4['Income'])\n"
      ],
      "metadata": {
        "colab": {
          "base_uri": "https://localhost:8080/"
        },
        "id": "YLasOnKkjOa0",
        "outputId": "71c22c5b-aec8-46a6-871a-2d95f22a3700"
      },
      "execution_count": null,
      "outputs": [
        {
          "output_type": "stream",
          "name": "stdout",
          "text": [
            "14359    3430.0\n",
            "Name: Income, dtype: float64\n"
          ]
        }
      ]
    },
    {
      "cell_type": "code",
      "source": [
        "# Filtra o DataFrame para incluir apenas as entradas com 'Age' igual a 18 e 'Income' superior a 0\n",
        "people_age_18_income_gt_zero = dataset[(dataset['Age'] == 18) & (dataset['Income'] > 0)]\n",
        "\n",
        "# Conta o número de pessoas que atendem aos critérios\n",
        "count_people_age_18_income_gt_zero = len(people_age_18_income_gt_zero)\n",
        "\n",
        "# Exibe o resultado\n",
        "print(\"Número de pessoas com 18 anos e Income superior a 0:\", count_people_age_18_income_gt_zero)"
      ],
      "metadata": {
        "colab": {
          "base_uri": "https://localhost:8080/"
        },
        "id": "EhwlByyQjeQ8",
        "outputId": "b1bcb8ed-e9f5-415a-9b07-81bc59393aea"
      },
      "execution_count": null,
      "outputs": [
        {
          "output_type": "stream",
          "name": "stdout",
          "text": [
            "Número de pessoas com 18 anos e Income superior a 0: 229\n"
          ]
        }
      ]
    },
    {
      "cell_type": "code",
      "source": [
        "# Filtra o DataFrame para incluir apenas as entradas com 'Age' igual a 17 e 'Income' superior a 0\n",
        "people_age_17_income_gt_zero = dataset[(dataset['Age'] == 17) & (dataset['Income'] > 0)]\n",
        "\n",
        "# Conta o número de pessoas que atendem aos critérios\n",
        "count_people_age_17_income_gt_zero = len(people_age_17_income_gt_zero)\n",
        "\n",
        "# Exibe o resultado\n",
        "print(\"Número de pessoas com 17 anos e Income superior a 0:\", count_people_age_17_income_gt_zero)\n"
      ],
      "metadata": {
        "colab": {
          "base_uri": "https://localhost:8080/"
        },
        "id": "9VE5rH7Ojx1B",
        "outputId": "e9de659c-3ebc-4695-f717-b8dedac7dd3e"
      },
      "execution_count": null,
      "outputs": [
        {
          "output_type": "stream",
          "name": "stdout",
          "text": [
            "Número de pessoas com 17 anos e Income superior a 0: 162\n"
          ]
        }
      ]
    },
    {
      "cell_type": "code",
      "source": [
        "# Filtra o DataFrame para incluir apenas as pessoas com Income superior a 0\n",
        "income_gt_0 = dataset[dataset['Income'] > 0]\n",
        "\n",
        "# Agrupa o DataFrame filtrado por idade e calcula a contagem de pessoas\n",
        "age_counts = income_gt_0['Age'].value_counts().reset_index()\n",
        "age_counts.columns = ['Age', 'Count']\n",
        "\n",
        "# Calcula o total de pessoas por idade\n",
        "total_age_counts = dataset['Age'].value_counts().reset_index()\n",
        "total_age_counts.columns = ['Age', 'Total Count']\n",
        "\n",
        "# Mescla as contagens de Income > 0 e o total de pessoas por idade\n",
        "merged_counts = age_counts.merge(total_age_counts, on='Age', how='outer')\n",
        "\n",
        "# Preenche os valores NaN com 0 para calcular as percentagens\n",
        "merged_counts.fillna(0, inplace=True)\n",
        "\n",
        "# Calcula as percentagens\n",
        "merged_counts['Percentage Income > 0'] = (merged_counts['Count'] / merged_counts['Total Count']) * 100\n",
        "\n",
        "# Exibe o resultado\n",
        "print(merged_counts[['Age', 'Count', 'Total Count', 'Percentage Income > 0']])"
      ],
      "metadata": {
        "colab": {
          "base_uri": "https://localhost:8080/"
        },
        "id": "1iUv7dnAkWA4",
        "outputId": "7e2c7827-308a-4566-c033-c2d0d70434f6"
      },
      "execution_count": null,
      "outputs": [
        {
          "output_type": "stream",
          "name": "stdout",
          "text": [
            "    Age   Count  Total Count  Percentage Income > 0\n",
            "0    22  1173.0         1187              98.820556\n",
            "1    21  1154.0         1166              98.970840\n",
            "2    20   977.0          987              98.986829\n",
            "3    23   942.0          954              98.742138\n",
            "4    19   889.0          899              98.887653\n",
            "..  ...     ...          ...                    ...\n",
            "83    1     0.0          152               0.000000\n",
            "84    8     0.0          145               0.000000\n",
            "85   10     0.0          115               0.000000\n",
            "86   12     0.0          115               0.000000\n",
            "87    0     0.0           19               0.000000\n",
            "\n",
            "[88 rows x 4 columns]\n"
          ]
        }
      ]
    },
    {
      "cell_type": "code",
      "source": [
        "# Filtra o DataFrame para incluir apenas as pessoas com Income superior a 0\n",
        "income_gt_0 = dataset[dataset['Income'] > 0]\n",
        "\n",
        "# Agrupa o DataFrame filtrado por idade e calcula a contagem de pessoas\n",
        "age_counts = income_gt_0['Age'].value_counts().reset_index()\n",
        "age_counts.columns = ['Age', 'Count']\n",
        "\n",
        "# Calcula o total de pessoas por idade\n",
        "total_age_counts = dataset['Age'].value_counts().reset_index()\n",
        "total_age_counts.columns = ['Age', 'Total Count']\n",
        "\n",
        "# Mescla as contagens de Income > 0 e o total de pessoas por idade\n",
        "merged_counts = age_counts.merge(total_age_counts, on='Age', how='outer')\n",
        "\n",
        "# Preenche os valores NaN com 0 para calcular as percentagens\n",
        "merged_counts.fillna(0, inplace=True)\n",
        "\n",
        "# Calcula as percentagens\n",
        "merged_counts['Percentage Income > 0'] = (merged_counts['Count'] / merged_counts['Total Count']) * 100\n",
        "\n",
        "# Filtra as idades com percentagens inferiores a 50%\n",
        "ages_below_50_percent = merged_counts[merged_counts['Percentage Income > 0'] < 50]\n",
        "\n",
        "# Exibe as idades com percentagens inferiores a 50%\n",
        "print(ages_below_50_percent[['Age', 'Percentage Income > 0']])\n"
      ],
      "metadata": {
        "colab": {
          "base_uri": "https://localhost:8080/"
        },
        "id": "Waod_Py1khNW",
        "outputId": "62ed98d9-e672-4f47-d304-72a77c44a996"
      },
      "execution_count": null,
      "outputs": [
        {
          "output_type": "stream",
          "name": "stdout",
          "text": [
            "    Age  Percentage Income > 0\n",
            "56   16               9.278351\n",
            "61   15               5.325444\n",
            "70    2               0.938967\n",
            "71   13               1.694915\n",
            "72    5               1.111111\n",
            "73   14               1.492537\n",
            "76   11               0.793651\n",
            "77    9               0.675676\n",
            "79    4               0.574713\n",
            "80    3               0.000000\n",
            "81    7               0.000000\n",
            "82    6               0.000000\n",
            "83    1               0.000000\n",
            "84    8               0.000000\n",
            "85   10               0.000000\n",
            "86   12               0.000000\n",
            "87    0               0.000000\n"
          ]
        }
      ]
    },
    {
      "cell_type": "code",
      "source": [
        "# Filtra o DataFrame para incluir apenas as pessoas com Income superior a 0\n",
        "income_gt_0 = dataset[dataset['Income'] > 0]\n",
        "\n",
        "# Agrupa o DataFrame filtrado por idade e calcula a contagem de pessoas\n",
        "age_counts = income_gt_0['Age'].value_counts().reset_index()\n",
        "age_counts.columns = ['Age', 'Count']\n",
        "\n",
        "# Calcula o total de pessoas por idade\n",
        "total_age_counts = dataset['Age'].value_counts().reset_index()\n",
        "total_age_counts.columns = ['Age', 'Total Count']\n",
        "\n",
        "# Mescla as contagens de Income > 0 e o total de pessoas por idade\n",
        "merged_counts = age_counts.merge(total_age_counts, on='Age', how='outer')\n",
        "\n",
        "# Preenche os valores NaN com 0 para calcular as percentagens\n",
        "merged_counts.fillna(0, inplace=True)\n",
        "\n",
        "# Calcula as percentagens\n",
        "merged_counts['Percentage Income > 0'] = (merged_counts['Count'] / merged_counts['Total Count']) * 100\n",
        "\n",
        "# Filtra as idades com percentagens inferiores a 50% e superiores a 10%\n",
        "ages_between_10_and_50_percent = merged_counts[(merged_counts['Percentage Income > 0'] < 50) & (merged_counts['Percentage Income > 0'] > 10)]\n",
        "\n",
        "# Exibe as idades com percentagens inferiores a 50% mas superiores a 10%\n",
        "print(ages_between_10_and_50_percent[['Age', 'Percentage Income > 0']])\n"
      ],
      "metadata": {
        "colab": {
          "base_uri": "https://localhost:8080/"
        },
        "id": "i0yqI58blOZS",
        "outputId": "46d3e7bc-eb93-48ff-a864-5e94a5c294d5"
      },
      "execution_count": null,
      "outputs": [
        {
          "output_type": "stream",
          "name": "stdout",
          "text": [
            "Empty DataFrame\n",
            "Columns: [Age, Percentage Income > 0]\n",
            "Index: []\n"
          ]
        }
      ]
    },
    {
      "cell_type": "code",
      "source": [
        "# Filtra o DataFrame para incluir apenas as pessoas com Income superior a 0\n",
        "income_gt_0 = dataset[dataset['Income'] > 0]\n",
        "\n",
        "# Agrupa o DataFrame filtrado por idade e calcula a contagem de pessoas\n",
        "age_counts = income_gt_0['Age'].value_counts().reset_index()\n",
        "age_counts.columns = ['Age', 'Count']\n",
        "\n",
        "# Calcula o total de pessoas por idade\n",
        "total_age_counts = dataset['Age'].value_counts().reset_index()\n",
        "total_age_counts.columns = ['Age', 'Total Count']\n",
        "\n",
        "# Mescla as contagens de Income > 0 e o total de pessoas por idade\n",
        "merged_counts = age_counts.merge(total_age_counts, on='Age', how='outer')\n",
        "\n",
        "# Calcula as percentagens sem preencher com 0\n",
        "merged_counts['Percentage Income > 0'] = (merged_counts['Count'] / merged_counts['Total Count']) * 100\n",
        "\n",
        "# Filtra as idades com percentagens inferiores a 50%\n",
        "ages_below_50_percent = merged_counts[merged_counts['Percentage Income > 0'] < 50]\n",
        "\n",
        "# Exibe as idades com percentagens inferiores a 50%\n",
        "print(ages_below_50_percent[['Age', 'Percentage Income > 0']])\n"
      ],
      "metadata": {
        "colab": {
          "base_uri": "https://localhost:8080/"
        },
        "id": "bvmH80rDlaF5",
        "outputId": "2b36bd93-aea9-44ce-d231-88de53e1b7d1"
      },
      "execution_count": null,
      "outputs": [
        {
          "output_type": "stream",
          "name": "stdout",
          "text": [
            "    Age  Percentage Income > 0\n",
            "56   16               9.278351\n",
            "61   15               5.325444\n",
            "70    2               0.938967\n",
            "71   13               1.694915\n",
            "72    5               1.111111\n",
            "73   14               1.492537\n",
            "76   11               0.793651\n",
            "77    9               0.675676\n",
            "79    4               0.574713\n"
          ]
        }
      ]
    },
    {
      "cell_type": "code",
      "source": [
        "# Filtra o DataFrame para incluir apenas as pessoas com Income superior a 0\n",
        "income_gt_0 = dataset[dataset['Income'] > 0]\n",
        "\n",
        "# Agrupa o DataFrame filtrado por idade e calcula a contagem de pessoas\n",
        "age_counts = income_gt_0['Age'].value_counts().reset_index()\n",
        "age_counts.columns = ['Age', 'Count']\n",
        "\n",
        "# Calcula o total de pessoas por idade\n",
        "total_age_counts = dataset['Age'].value_counts().reset_index()\n",
        "total_age_counts.columns = ['Age', 'Total Count']\n",
        "\n",
        "# Mescla as contagens de Income > 0 e o total de pessoas por idade\n",
        "merged_counts = age_counts.merge(total_age_counts, on='Age', how='outer')\n",
        "\n",
        "# Adiciona uma coluna com o número de pessoas com valores não NaN no income\n",
        "merged_counts['Number of People'] = merged_counts['Count']\n",
        "\n",
        "# Calcula as percentagens sem preencher com 0\n",
        "merged_counts['Percentage Income > 0'] = (merged_counts['Count'] / merged_counts['Total Count']) * 100\n",
        "\n",
        "# Filtra as idades com percentagens inferiores a 50%\n",
        "ages_below_50_percent = merged_counts[merged_counts['Percentage Income > 0'] < 50]\n",
        "\n",
        "# Exibe as idades com percentagens inferiores a 50% juntamente com o número de pessoas com Income > 0\n",
        "print(ages_below_50_percent[['Age', 'Percentage Income > 0', 'Number of People']])"
      ],
      "metadata": {
        "colab": {
          "base_uri": "https://localhost:8080/"
        },
        "id": "r14I_RZJmIUZ",
        "outputId": "696f43b1-d015-4af1-f74c-4be163603de4"
      },
      "execution_count": null,
      "outputs": [
        {
          "output_type": "stream",
          "name": "stdout",
          "text": [
            "    Age  Percentage Income > 0  Number of People\n",
            "56   16               9.278351              18.0\n",
            "61   15               5.325444               9.0\n",
            "70    2               0.938967               2.0\n",
            "71   13               1.694915               2.0\n",
            "72    5               1.111111               2.0\n",
            "73   14               1.492537               2.0\n",
            "76   11               0.793651               1.0\n",
            "77    9               0.675676               1.0\n",
            "79    4               0.574713               1.0\n"
          ]
        }
      ]
    },
    {
      "cell_type": "code",
      "source": [],
      "metadata": {
        "id": "HRMJwr9knb2X"
      },
      "execution_count": null,
      "outputs": []
    }
  ]
}