{
 "cells": [
  {
   "cell_type": "markdown",
   "id": "06005756-1341-4b8c-aeea-a84f6e7a4d67",
   "metadata": {},
   "source": [
    "# 1. Imports\n",
    "\n",
    "## Import libraries"
   ]
  },
  {
   "cell_type": "code",
   "execution_count": 2,
   "id": "9eae9f67-08b3-4a3c-80b7-e34c6e916f5b",
   "metadata": {},
   "outputs": [],
   "source": [
    "import warnings\n",
    "warnings.filterwarnings('ignore')\n",
    "\n",
    "import math\n",
    "import sqlite3 \n",
    "import os \n",
    "import pandas as pd \n",
    "import numpy as np \n",
    "import matplotlib.pyplot as plt\n",
    "import seaborn as sns \n",
    "from math import ceil \n",
    "from collections import Counter\n",
    "from scipy.cluster.hierarchy import dendrogram\n",
    "\n",
    "from sklearn.impute import KNNImputer \n",
    "from sklearn.preprocessing import MinMaxScaler, StandardScaler, OneHotEncoder, LabelEncoder, RobustScaler\n",
    "from sklearn.base import clone\n",
    "from sklearn.cluster import KMeans, AgglomerativeClustering\n",
    "from sklearn.cluster import MeanShift, DBSCAN, estimate_bandwidth\n",
    "from sklearn.neighbors import NearestNeighbors, KNeighborsClassifier\n",
    "from sklearn.manifold import TSNE\n",
    "from sklearn.metrics import silhouette_score\n",
    "from sklearn.tree import DecisionTreeClassifier, export_graphviz\n",
    "from sklearn.model_selection import train_test_split\n",
    "\n",
    "from pandas_profiling import ProfileReport\n",
    "\n",
    "import sompy\n",
    "from sompy.visualization.mapview import View2D\n",
    "from sompy.visualization.bmuhits import BmuHitsView\n",
    "from sompy.visualization.hitmap import HitMapView"
   ]
  },
  {
   "cell_type": "markdown",
   "id": "93cd0b57-00a8-4492-83dc-34f056d0b21b",
   "metadata": {},
   "source": [
    "## Import dataset"
   ]
  },
  {
   "cell_type": "code",
   "execution_count": 3,
   "id": "52491899-75d1-4a0e-b544-edabfa0a8adb",
   "metadata": {},
   "outputs": [],
   "source": [
    "df = pd.read_csv('XYZ_sports_dataset.csv', delimiter=';')"
   ]
  },
  {
   "cell_type": "markdown",
   "id": "d4ad4000-9a4b-47ae-829e-700ddfb05143",
   "metadata": {},
   "source": [
    "__Copy of the original dataset:__"
   ]
  },
  {
   "cell_type": "code",
   "execution_count": 4,
   "id": "0c35475d-f54c-4a38-9a33-806bdf541f99",
   "metadata": {},
   "outputs": [],
   "source": [
    "df_original = df.copy()"
   ]
  },
  {
   "cell_type": "markdown",
   "id": "20c976d4-7e9b-4bf4-a846-71a006a0b28d",
   "metadata": {},
   "source": [
    "-------------------------------"
   ]
  },
  {
   "cell_type": "markdown",
   "id": "b5cd5ae6-afae-4f39-9ce2-b6bf99495409",
   "metadata": {},
   "source": [
    "# 2. Data Exploration"
   ]
  },
  {
   "cell_type": "markdown",
   "id": "511b247a-e212-4ac9-be20-af8cfe15e804",
   "metadata": {},
   "source": [
    "## Data Overview"
   ]
  },
  {
   "cell_type": "code",
   "execution_count": 5,
   "id": "0db22453-eb16-49b1-af0f-33e0f7a782cd",
   "metadata": {},
   "outputs": [
    {
     "data": {
      "text/html": [
       "<div>\n",
       "<style scoped>\n",
       "    .dataframe tbody tr th:only-of-type {\n",
       "        vertical-align: middle;\n",
       "    }\n",
       "\n",
       "    .dataframe tbody tr th {\n",
       "        vertical-align: top;\n",
       "    }\n",
       "\n",
       "    .dataframe thead th {\n",
       "        text-align: right;\n",
       "    }\n",
       "</style>\n",
       "<table border=\"1\" class=\"dataframe\">\n",
       "  <thead>\n",
       "    <tr style=\"text-align: right;\">\n",
       "      <th></th>\n",
       "      <th>ID</th>\n",
       "      <th>Age</th>\n",
       "      <th>Gender</th>\n",
       "      <th>Income</th>\n",
       "      <th>EnrollmentStart</th>\n",
       "      <th>EnrollmentFinish</th>\n",
       "      <th>LastPeriodStart</th>\n",
       "      <th>LastPeriodFinish</th>\n",
       "      <th>DateLastVisit</th>\n",
       "      <th>DaysWithoutFrequency</th>\n",
       "      <th>...</th>\n",
       "      <th>OtherActivities</th>\n",
       "      <th>NumberOfFrequencies</th>\n",
       "      <th>AttendedClasses</th>\n",
       "      <th>AllowedWeeklyVisitsBySLA</th>\n",
       "      <th>AllowedNumberOfVisitsBySLA</th>\n",
       "      <th>RealNumberOfVisits</th>\n",
       "      <th>NumberOfRenewals</th>\n",
       "      <th>HasReferences</th>\n",
       "      <th>NumberOfReferences</th>\n",
       "      <th>Dropout</th>\n",
       "    </tr>\n",
       "  </thead>\n",
       "  <tbody>\n",
       "    <tr>\n",
       "      <th>0</th>\n",
       "      <td>10000</td>\n",
       "      <td>60</td>\n",
       "      <td>Female</td>\n",
       "      <td>5500.0</td>\n",
       "      <td>2019-09-03</td>\n",
       "      <td>2019-10-31</td>\n",
       "      <td>2019-07-01</td>\n",
       "      <td>2019-12-31</td>\n",
       "      <td>2019-10-30</td>\n",
       "      <td>1</td>\n",
       "      <td>...</td>\n",
       "      <td>0.0</td>\n",
       "      <td>9.0</td>\n",
       "      <td>7</td>\n",
       "      <td>NaN</td>\n",
       "      <td>6.28</td>\n",
       "      <td>2</td>\n",
       "      <td>0</td>\n",
       "      <td>0.0</td>\n",
       "      <td>0</td>\n",
       "      <td>0</td>\n",
       "    </tr>\n",
       "    <tr>\n",
       "      <th>1</th>\n",
       "      <td>10001</td>\n",
       "      <td>29</td>\n",
       "      <td>Female</td>\n",
       "      <td>2630.0</td>\n",
       "      <td>2014-08-12</td>\n",
       "      <td>2015-09-14</td>\n",
       "      <td>2015-01-01</td>\n",
       "      <td>2015-12-31</td>\n",
       "      <td>2015-07-16</td>\n",
       "      <td>60</td>\n",
       "      <td>...</td>\n",
       "      <td>0.0</td>\n",
       "      <td>23.0</td>\n",
       "      <td>1</td>\n",
       "      <td>2.0</td>\n",
       "      <td>17.42</td>\n",
       "      <td>1</td>\n",
       "      <td>2</td>\n",
       "      <td>0.0</td>\n",
       "      <td>0</td>\n",
       "      <td>1</td>\n",
       "    </tr>\n",
       "    <tr>\n",
       "      <th>2</th>\n",
       "      <td>10002</td>\n",
       "      <td>23</td>\n",
       "      <td>Male</td>\n",
       "      <td>1980.0</td>\n",
       "      <td>2017-05-02</td>\n",
       "      <td>2017-06-01</td>\n",
       "      <td>2017-01-01</td>\n",
       "      <td>2017-06-30</td>\n",
       "      <td>2017-05-25</td>\n",
       "      <td>7</td>\n",
       "      <td>...</td>\n",
       "      <td>0.0</td>\n",
       "      <td>6.0</td>\n",
       "      <td>0</td>\n",
       "      <td>7.0</td>\n",
       "      <td>30.03</td>\n",
       "      <td>6</td>\n",
       "      <td>0</td>\n",
       "      <td>0.0</td>\n",
       "      <td>0</td>\n",
       "      <td>1</td>\n",
       "    </tr>\n",
       "    <tr>\n",
       "      <th>3</th>\n",
       "      <td>10003</td>\n",
       "      <td>9</td>\n",
       "      <td>Male</td>\n",
       "      <td>0.0</td>\n",
       "      <td>2018-09-05</td>\n",
       "      <td>2019-02-12</td>\n",
       "      <td>2018-07-01</td>\n",
       "      <td>2019-06-30</td>\n",
       "      <td>2019-01-21</td>\n",
       "      <td>22</td>\n",
       "      <td>...</td>\n",
       "      <td>0.0</td>\n",
       "      <td>20.0</td>\n",
       "      <td>2</td>\n",
       "      <td>2.0</td>\n",
       "      <td>17.72</td>\n",
       "      <td>3</td>\n",
       "      <td>0</td>\n",
       "      <td>0.0</td>\n",
       "      <td>0</td>\n",
       "      <td>1</td>\n",
       "    </tr>\n",
       "    <tr>\n",
       "      <th>4</th>\n",
       "      <td>10004</td>\n",
       "      <td>35</td>\n",
       "      <td>Male</td>\n",
       "      <td>4320.0</td>\n",
       "      <td>2016-04-20</td>\n",
       "      <td>2018-06-07</td>\n",
       "      <td>2018-01-01</td>\n",
       "      <td>2018-06-30</td>\n",
       "      <td>2017-11-09</td>\n",
       "      <td>210</td>\n",
       "      <td>...</td>\n",
       "      <td>NaN</td>\n",
       "      <td>41.0</td>\n",
       "      <td>0</td>\n",
       "      <td>7.0</td>\n",
       "      <td>60.97</td>\n",
       "      <td>0</td>\n",
       "      <td>3</td>\n",
       "      <td>0.0</td>\n",
       "      <td>0</td>\n",
       "      <td>1</td>\n",
       "    </tr>\n",
       "  </tbody>\n",
       "</table>\n",
       "<p>5 rows × 31 columns</p>\n",
       "</div>"
      ],
      "text/plain": [
       "      ID  Age  Gender  Income EnrollmentStart EnrollmentFinish  \\\n",
       "0  10000   60  Female  5500.0      2019-09-03       2019-10-31   \n",
       "1  10001   29  Female  2630.0      2014-08-12       2015-09-14   \n",
       "2  10002   23    Male  1980.0      2017-05-02       2017-06-01   \n",
       "3  10003    9    Male     0.0      2018-09-05       2019-02-12   \n",
       "4  10004   35    Male  4320.0      2016-04-20       2018-06-07   \n",
       "\n",
       "  LastPeriodStart LastPeriodFinish DateLastVisit  DaysWithoutFrequency  ...  \\\n",
       "0      2019-07-01       2019-12-31    2019-10-30                     1  ...   \n",
       "1      2015-01-01       2015-12-31    2015-07-16                    60  ...   \n",
       "2      2017-01-01       2017-06-30    2017-05-25                     7  ...   \n",
       "3      2018-07-01       2019-06-30    2019-01-21                    22  ...   \n",
       "4      2018-01-01       2018-06-30    2017-11-09                   210  ...   \n",
       "\n",
       "   OtherActivities  NumberOfFrequencies  AttendedClasses  \\\n",
       "0              0.0                  9.0                7   \n",
       "1              0.0                 23.0                1   \n",
       "2              0.0                  6.0                0   \n",
       "3              0.0                 20.0                2   \n",
       "4              NaN                 41.0                0   \n",
       "\n",
       "   AllowedWeeklyVisitsBySLA  AllowedNumberOfVisitsBySLA  RealNumberOfVisits  \\\n",
       "0                       NaN                        6.28                   2   \n",
       "1                       2.0                       17.42                   1   \n",
       "2                       7.0                       30.03                   6   \n",
       "3                       2.0                       17.72                   3   \n",
       "4                       7.0                       60.97                   0   \n",
       "\n",
       "   NumberOfRenewals  HasReferences  NumberOfReferences  Dropout  \n",
       "0                 0            0.0                   0        0  \n",
       "1                 2            0.0                   0        1  \n",
       "2                 0            0.0                   0        1  \n",
       "3                 0            0.0                   0        1  \n",
       "4                 3            0.0                   0        1  \n",
       "\n",
       "[5 rows x 31 columns]"
      ]
     },
     "execution_count": 5,
     "metadata": {},
     "output_type": "execute_result"
    }
   ],
   "source": [
    "df.head()"
   ]
  },
  {
   "cell_type": "code",
   "execution_count": 6,
   "id": "31c86484-cbd0-487d-934c-ae0a35474871",
   "metadata": {},
   "outputs": [
    {
     "data": {
      "text/plain": [
       "(14942, 31)"
      ]
     },
     "execution_count": 6,
     "metadata": {},
     "output_type": "execute_result"
    }
   ],
   "source": [
    "df.shape"
   ]
  },
  {
   "cell_type": "code",
   "execution_count": 7,
   "id": "d149f7dc-23a7-4419-8608-d2e66b726286",
   "metadata": {},
   "outputs": [
    {
     "data": {
      "text/plain": [
       "ID                              int64\n",
       "Age                             int64\n",
       "Gender                         object\n",
       "Income                        float64\n",
       "EnrollmentStart                object\n",
       "EnrollmentFinish               object\n",
       "LastPeriodStart                object\n",
       "LastPeriodFinish               object\n",
       "DateLastVisit                  object\n",
       "DaysWithoutFrequency            int64\n",
       "LifetimeValue                 float64\n",
       "UseByTime                       int64\n",
       "AthleticsActivities           float64\n",
       "WaterActivities               float64\n",
       "FitnessActivities             float64\n",
       "DanceActivities               float64\n",
       "TeamActivities                float64\n",
       "RacketActivities              float64\n",
       "CombatActivities              float64\n",
       "NatureActivities              float64\n",
       "SpecialActivities             float64\n",
       "OtherActivities               float64\n",
       "NumberOfFrequencies           float64\n",
       "AttendedClasses                 int64\n",
       "AllowedWeeklyVisitsBySLA      float64\n",
       "AllowedNumberOfVisitsBySLA    float64\n",
       "RealNumberOfVisits              int64\n",
       "NumberOfRenewals                int64\n",
       "HasReferences                 float64\n",
       "NumberOfReferences              int64\n",
       "Dropout                         int64\n",
       "dtype: object"
      ]
     },
     "execution_count": 7,
     "metadata": {},
     "output_type": "execute_result"
    }
   ],
   "source": [
    "df.dtypes"
   ]
  },
  {
   "cell_type": "code",
   "execution_count": 8,
   "id": "9afdf06d-a207-470d-b0cb-8584d26e414f",
   "metadata": {},
   "outputs": [
    {
     "data": {
      "text/html": [
       "<div>\n",
       "<style scoped>\n",
       "    .dataframe tbody tr th:only-of-type {\n",
       "        vertical-align: middle;\n",
       "    }\n",
       "\n",
       "    .dataframe tbody tr th {\n",
       "        vertical-align: top;\n",
       "    }\n",
       "\n",
       "    .dataframe thead th {\n",
       "        text-align: right;\n",
       "    }\n",
       "</style>\n",
       "<table border=\"1\" class=\"dataframe\">\n",
       "  <thead>\n",
       "    <tr style=\"text-align: right;\">\n",
       "      <th></th>\n",
       "      <th>count</th>\n",
       "      <th>mean</th>\n",
       "      <th>std</th>\n",
       "      <th>min</th>\n",
       "      <th>25%</th>\n",
       "      <th>50%</th>\n",
       "      <th>75%</th>\n",
       "      <th>max</th>\n",
       "    </tr>\n",
       "  </thead>\n",
       "  <tbody>\n",
       "    <tr>\n",
       "      <th>ID</th>\n",
       "      <td>14942.0</td>\n",
       "      <td>17470.500000</td>\n",
       "      <td>4313.528196</td>\n",
       "      <td>10000.00</td>\n",
       "      <td>13735.25</td>\n",
       "      <td>17470.50</td>\n",
       "      <td>21205.750</td>\n",
       "      <td>24941.00</td>\n",
       "    </tr>\n",
       "    <tr>\n",
       "      <th>Age</th>\n",
       "      <td>14942.0</td>\n",
       "      <td>26.015794</td>\n",
       "      <td>14.156582</td>\n",
       "      <td>0.00</td>\n",
       "      <td>19.00</td>\n",
       "      <td>23.00</td>\n",
       "      <td>31.000</td>\n",
       "      <td>87.00</td>\n",
       "    </tr>\n",
       "    <tr>\n",
       "      <th>Income</th>\n",
       "      <td>14447.0</td>\n",
       "      <td>2230.816086</td>\n",
       "      <td>1566.527734</td>\n",
       "      <td>0.00</td>\n",
       "      <td>1470.00</td>\n",
       "      <td>1990.00</td>\n",
       "      <td>2790.000</td>\n",
       "      <td>10890.00</td>\n",
       "    </tr>\n",
       "    <tr>\n",
       "      <th>DaysWithoutFrequency</th>\n",
       "      <td>14942.0</td>\n",
       "      <td>81.224936</td>\n",
       "      <td>144.199576</td>\n",
       "      <td>0.00</td>\n",
       "      <td>13.00</td>\n",
       "      <td>41.00</td>\n",
       "      <td>83.750</td>\n",
       "      <td>1745.00</td>\n",
       "    </tr>\n",
       "    <tr>\n",
       "      <th>LifetimeValue</th>\n",
       "      <td>14942.0</td>\n",
       "      <td>302.561871</td>\n",
       "      <td>364.319566</td>\n",
       "      <td>0.00</td>\n",
       "      <td>83.60</td>\n",
       "      <td>166.20</td>\n",
       "      <td>355.075</td>\n",
       "      <td>6727.80</td>\n",
       "    </tr>\n",
       "    <tr>\n",
       "      <th>UseByTime</th>\n",
       "      <td>14942.0</td>\n",
       "      <td>0.047116</td>\n",
       "      <td>0.211893</td>\n",
       "      <td>0.00</td>\n",
       "      <td>0.00</td>\n",
       "      <td>0.00</td>\n",
       "      <td>0.000</td>\n",
       "      <td>1.00</td>\n",
       "    </tr>\n",
       "    <tr>\n",
       "      <th>AthleticsActivities</th>\n",
       "      <td>14906.0</td>\n",
       "      <td>0.007380</td>\n",
       "      <td>0.085590</td>\n",
       "      <td>0.00</td>\n",
       "      <td>0.00</td>\n",
       "      <td>0.00</td>\n",
       "      <td>0.000</td>\n",
       "      <td>1.00</td>\n",
       "    </tr>\n",
       "    <tr>\n",
       "      <th>WaterActivities</th>\n",
       "      <td>14905.0</td>\n",
       "      <td>0.296209</td>\n",
       "      <td>0.456600</td>\n",
       "      <td>0.00</td>\n",
       "      <td>0.00</td>\n",
       "      <td>0.00</td>\n",
       "      <td>1.000</td>\n",
       "      <td>1.00</td>\n",
       "    </tr>\n",
       "    <tr>\n",
       "      <th>FitnessActivities</th>\n",
       "      <td>14907.0</td>\n",
       "      <td>0.576038</td>\n",
       "      <td>0.494201</td>\n",
       "      <td>0.00</td>\n",
       "      <td>0.00</td>\n",
       "      <td>1.00</td>\n",
       "      <td>1.000</td>\n",
       "      <td>1.00</td>\n",
       "    </tr>\n",
       "    <tr>\n",
       "      <th>DanceActivities</th>\n",
       "      <td>14906.0</td>\n",
       "      <td>0.000000</td>\n",
       "      <td>0.000000</td>\n",
       "      <td>0.00</td>\n",
       "      <td>0.00</td>\n",
       "      <td>0.00</td>\n",
       "      <td>0.000</td>\n",
       "      <td>0.00</td>\n",
       "    </tr>\n",
       "    <tr>\n",
       "      <th>TeamActivities</th>\n",
       "      <td>14907.0</td>\n",
       "      <td>0.055544</td>\n",
       "      <td>0.229047</td>\n",
       "      <td>0.00</td>\n",
       "      <td>0.00</td>\n",
       "      <td>0.00</td>\n",
       "      <td>0.000</td>\n",
       "      <td>1.00</td>\n",
       "    </tr>\n",
       "    <tr>\n",
       "      <th>RacketActivities</th>\n",
       "      <td>14905.0</td>\n",
       "      <td>0.023415</td>\n",
       "      <td>0.151222</td>\n",
       "      <td>0.00</td>\n",
       "      <td>0.00</td>\n",
       "      <td>0.00</td>\n",
       "      <td>0.000</td>\n",
       "      <td>1.00</td>\n",
       "    </tr>\n",
       "    <tr>\n",
       "      <th>CombatActivities</th>\n",
       "      <td>14909.0</td>\n",
       "      <td>0.107921</td>\n",
       "      <td>0.310292</td>\n",
       "      <td>0.00</td>\n",
       "      <td>0.00</td>\n",
       "      <td>0.00</td>\n",
       "      <td>0.000</td>\n",
       "      <td>1.00</td>\n",
       "    </tr>\n",
       "    <tr>\n",
       "      <th>NatureActivities</th>\n",
       "      <td>14895.0</td>\n",
       "      <td>0.000000</td>\n",
       "      <td>0.000000</td>\n",
       "      <td>0.00</td>\n",
       "      <td>0.00</td>\n",
       "      <td>0.00</td>\n",
       "      <td>0.000</td>\n",
       "      <td>0.00</td>\n",
       "    </tr>\n",
       "    <tr>\n",
       "      <th>SpecialActivities</th>\n",
       "      <td>14898.0</td>\n",
       "      <td>0.026514</td>\n",
       "      <td>0.160662</td>\n",
       "      <td>0.00</td>\n",
       "      <td>0.00</td>\n",
       "      <td>0.00</td>\n",
       "      <td>0.000</td>\n",
       "      <td>1.00</td>\n",
       "    </tr>\n",
       "    <tr>\n",
       "      <th>OtherActivities</th>\n",
       "      <td>14907.0</td>\n",
       "      <td>0.001878</td>\n",
       "      <td>0.043300</td>\n",
       "      <td>0.00</td>\n",
       "      <td>0.00</td>\n",
       "      <td>0.00</td>\n",
       "      <td>0.000</td>\n",
       "      <td>1.00</td>\n",
       "    </tr>\n",
       "    <tr>\n",
       "      <th>NumberOfFrequencies</th>\n",
       "      <td>14916.0</td>\n",
       "      <td>40.120542</td>\n",
       "      <td>65.466459</td>\n",
       "      <td>1.00</td>\n",
       "      <td>7.00</td>\n",
       "      <td>18.00</td>\n",
       "      <td>45.000</td>\n",
       "      <td>1031.00</td>\n",
       "    </tr>\n",
       "    <tr>\n",
       "      <th>AttendedClasses</th>\n",
       "      <td>14942.0</td>\n",
       "      <td>10.152456</td>\n",
       "      <td>29.154202</td>\n",
       "      <td>0.00</td>\n",
       "      <td>0.00</td>\n",
       "      <td>0.00</td>\n",
       "      <td>3.000</td>\n",
       "      <td>581.00</td>\n",
       "    </tr>\n",
       "    <tr>\n",
       "      <th>AllowedWeeklyVisitsBySLA</th>\n",
       "      <td>14407.0</td>\n",
       "      <td>5.759561</td>\n",
       "      <td>2.118867</td>\n",
       "      <td>1.00</td>\n",
       "      <td>4.00</td>\n",
       "      <td>7.00</td>\n",
       "      <td>7.000</td>\n",
       "      <td>7.00</td>\n",
       "    </tr>\n",
       "    <tr>\n",
       "      <th>AllowedNumberOfVisitsBySLA</th>\n",
       "      <td>14942.0</td>\n",
       "      <td>41.636299</td>\n",
       "      <td>21.066166</td>\n",
       "      <td>0.56</td>\n",
       "      <td>25.72</td>\n",
       "      <td>38.99</td>\n",
       "      <td>60.970</td>\n",
       "      <td>240.03</td>\n",
       "    </tr>\n",
       "    <tr>\n",
       "      <th>RealNumberOfVisits</th>\n",
       "      <td>14942.0</td>\n",
       "      <td>5.320707</td>\n",
       "      <td>6.332958</td>\n",
       "      <td>0.00</td>\n",
       "      <td>1.00</td>\n",
       "      <td>4.00</td>\n",
       "      <td>7.000</td>\n",
       "      <td>84.00</td>\n",
       "    </tr>\n",
       "    <tr>\n",
       "      <th>NumberOfRenewals</th>\n",
       "      <td>14942.0</td>\n",
       "      <td>1.205260</td>\n",
       "      <td>1.381305</td>\n",
       "      <td>0.00</td>\n",
       "      <td>0.00</td>\n",
       "      <td>1.00</td>\n",
       "      <td>2.000</td>\n",
       "      <td>6.00</td>\n",
       "    </tr>\n",
       "    <tr>\n",
       "      <th>HasReferences</th>\n",
       "      <td>14930.0</td>\n",
       "      <td>0.019893</td>\n",
       "      <td>0.139637</td>\n",
       "      <td>0.00</td>\n",
       "      <td>0.00</td>\n",
       "      <td>0.00</td>\n",
       "      <td>0.000</td>\n",
       "      <td>1.00</td>\n",
       "    </tr>\n",
       "    <tr>\n",
       "      <th>NumberOfReferences</th>\n",
       "      <td>14942.0</td>\n",
       "      <td>0.022286</td>\n",
       "      <td>0.166777</td>\n",
       "      <td>0.00</td>\n",
       "      <td>0.00</td>\n",
       "      <td>0.00</td>\n",
       "      <td>0.000</td>\n",
       "      <td>3.00</td>\n",
       "    </tr>\n",
       "    <tr>\n",
       "      <th>Dropout</th>\n",
       "      <td>14942.0</td>\n",
       "      <td>0.800964</td>\n",
       "      <td>0.399289</td>\n",
       "      <td>0.00</td>\n",
       "      <td>1.00</td>\n",
       "      <td>1.00</td>\n",
       "      <td>1.000</td>\n",
       "      <td>1.00</td>\n",
       "    </tr>\n",
       "  </tbody>\n",
       "</table>\n",
       "</div>"
      ],
      "text/plain": [
       "                              count          mean          std       min  \\\n",
       "ID                          14942.0  17470.500000  4313.528196  10000.00   \n",
       "Age                         14942.0     26.015794    14.156582      0.00   \n",
       "Income                      14447.0   2230.816086  1566.527734      0.00   \n",
       "DaysWithoutFrequency        14942.0     81.224936   144.199576      0.00   \n",
       "LifetimeValue               14942.0    302.561871   364.319566      0.00   \n",
       "UseByTime                   14942.0      0.047116     0.211893      0.00   \n",
       "AthleticsActivities         14906.0      0.007380     0.085590      0.00   \n",
       "WaterActivities             14905.0      0.296209     0.456600      0.00   \n",
       "FitnessActivities           14907.0      0.576038     0.494201      0.00   \n",
       "DanceActivities             14906.0      0.000000     0.000000      0.00   \n",
       "TeamActivities              14907.0      0.055544     0.229047      0.00   \n",
       "RacketActivities            14905.0      0.023415     0.151222      0.00   \n",
       "CombatActivities            14909.0      0.107921     0.310292      0.00   \n",
       "NatureActivities            14895.0      0.000000     0.000000      0.00   \n",
       "SpecialActivities           14898.0      0.026514     0.160662      0.00   \n",
       "OtherActivities             14907.0      0.001878     0.043300      0.00   \n",
       "NumberOfFrequencies         14916.0     40.120542    65.466459      1.00   \n",
       "AttendedClasses             14942.0     10.152456    29.154202      0.00   \n",
       "AllowedWeeklyVisitsBySLA    14407.0      5.759561     2.118867      1.00   \n",
       "AllowedNumberOfVisitsBySLA  14942.0     41.636299    21.066166      0.56   \n",
       "RealNumberOfVisits          14942.0      5.320707     6.332958      0.00   \n",
       "NumberOfRenewals            14942.0      1.205260     1.381305      0.00   \n",
       "HasReferences               14930.0      0.019893     0.139637      0.00   \n",
       "NumberOfReferences          14942.0      0.022286     0.166777      0.00   \n",
       "Dropout                     14942.0      0.800964     0.399289      0.00   \n",
       "\n",
       "                                 25%       50%        75%       max  \n",
       "ID                          13735.25  17470.50  21205.750  24941.00  \n",
       "Age                            19.00     23.00     31.000     87.00  \n",
       "Income                       1470.00   1990.00   2790.000  10890.00  \n",
       "DaysWithoutFrequency           13.00     41.00     83.750   1745.00  \n",
       "LifetimeValue                  83.60    166.20    355.075   6727.80  \n",
       "UseByTime                       0.00      0.00      0.000      1.00  \n",
       "AthleticsActivities             0.00      0.00      0.000      1.00  \n",
       "WaterActivities                 0.00      0.00      1.000      1.00  \n",
       "FitnessActivities               0.00      1.00      1.000      1.00  \n",
       "DanceActivities                 0.00      0.00      0.000      0.00  \n",
       "TeamActivities                  0.00      0.00      0.000      1.00  \n",
       "RacketActivities                0.00      0.00      0.000      1.00  \n",
       "CombatActivities                0.00      0.00      0.000      1.00  \n",
       "NatureActivities                0.00      0.00      0.000      0.00  \n",
       "SpecialActivities               0.00      0.00      0.000      1.00  \n",
       "OtherActivities                 0.00      0.00      0.000      1.00  \n",
       "NumberOfFrequencies             7.00     18.00     45.000   1031.00  \n",
       "AttendedClasses                 0.00      0.00      3.000    581.00  \n",
       "AllowedWeeklyVisitsBySLA        4.00      7.00      7.000      7.00  \n",
       "AllowedNumberOfVisitsBySLA     25.72     38.99     60.970    240.03  \n",
       "RealNumberOfVisits              1.00      4.00      7.000     84.00  \n",
       "NumberOfRenewals                0.00      1.00      2.000      6.00  \n",
       "HasReferences                   0.00      0.00      0.000      1.00  \n",
       "NumberOfReferences              0.00      0.00      0.000      3.00  \n",
       "Dropout                         1.00      1.00      1.000      1.00  "
      ]
     },
     "execution_count": 8,
     "metadata": {},
     "output_type": "execute_result"
    }
   ],
   "source": [
    "# check descriptive statistics\n",
    "df.describe().T"
   ]
  },
  {
   "cell_type": "code",
   "execution_count": 9,
   "id": "f3c37acf-3926-4f99-aa09-552162d33d9c",
   "metadata": {},
   "outputs": [
    {
     "data": {
      "text/plain": [
       "ID                              0\n",
       "Age                             0\n",
       "Gender                          0\n",
       "Income                        495\n",
       "EnrollmentStart                 0\n",
       "EnrollmentFinish                0\n",
       "LastPeriodStart                 0\n",
       "LastPeriodFinish                0\n",
       "DateLastVisit                   0\n",
       "DaysWithoutFrequency            0\n",
       "LifetimeValue                   0\n",
       "UseByTime                       0\n",
       "AthleticsActivities            36\n",
       "WaterActivities                37\n",
       "FitnessActivities              35\n",
       "DanceActivities                36\n",
       "TeamActivities                 35\n",
       "RacketActivities               37\n",
       "CombatActivities               33\n",
       "NatureActivities               47\n",
       "SpecialActivities              44\n",
       "OtherActivities                35\n",
       "NumberOfFrequencies            26\n",
       "AttendedClasses                 0\n",
       "AllowedWeeklyVisitsBySLA      535\n",
       "AllowedNumberOfVisitsBySLA      0\n",
       "RealNumberOfVisits              0\n",
       "NumberOfRenewals                0\n",
       "HasReferences                  12\n",
       "NumberOfReferences              0\n",
       "Dropout                         0\n",
       "dtype: int64"
      ]
     },
     "execution_count": 9,
     "metadata": {},
     "output_type": "execute_result"
    }
   ],
   "source": [
    "df.isna().sum()"
   ]
  },
  {
   "cell_type": "markdown",
   "id": "aa257362-3732-4605-a8ff-877791a04ad1",
   "metadata": {},
   "source": [
    "# 3. Data Preprocessing"
   ]
  },
  {
   "cell_type": "code",
   "execution_count": 10,
   "id": "88fd63f3-7bd0-4b0c-8625-7572e1c01867",
   "metadata": {},
   "outputs": [
    {
     "data": {
      "text/plain": [
       "ID                                     int64\n",
       "Age                                    int64\n",
       "Gender                               boolean\n",
       "Income                               float64\n",
       "EnrollmentStart               datetime64[ns]\n",
       "EnrollmentFinish              datetime64[ns]\n",
       "LastPeriodStart               datetime64[ns]\n",
       "LastPeriodFinish              datetime64[ns]\n",
       "DateLastVisit                 datetime64[ns]\n",
       "DaysWithoutFrequency                   int64\n",
       "LifetimeValue                        float64\n",
       "UseByTime                            boolean\n",
       "AthleticsActivities                  boolean\n",
       "WaterActivities                      boolean\n",
       "FitnessActivities                    boolean\n",
       "DanceActivities                      boolean\n",
       "TeamActivities                       boolean\n",
       "RacketActivities                     boolean\n",
       "CombatActivities                     boolean\n",
       "NatureActivities                     boolean\n",
       "SpecialActivities                    boolean\n",
       "OtherActivities                      boolean\n",
       "NumberOfFrequencies                  float64\n",
       "AttendedClasses                        int64\n",
       "AllowedWeeklyVisitsBySLA             float64\n",
       "AllowedNumberOfVisitsBySLA           float64\n",
       "RealNumberOfVisits                     int64\n",
       "NumberOfRenewals                       int64\n",
       "HasReferences                        boolean\n",
       "NumberOfReferences                     int64\n",
       "Dropout                              boolean\n",
       "dtype: object"
      ]
     },
     "execution_count": 10,
     "metadata": {},
     "output_type": "execute_result"
    }
   ],
   "source": [
    "# fix wrong dtypes\n",
    "\n",
    "df['Gender'] = LabelEncoder().fit_transform(df['Gender']) # 0 Female | 1 Male\n",
    "\n",
    "bool = ['Gender', 'UseByTime', 'AthleticsActivities', 'WaterActivities', 'FitnessActivities',\n",
    "        'DanceActivities', 'TeamActivities', 'RacketActivities', 'CombatActivities',\n",
    "        'NatureActivities', 'SpecialActivities', 'OtherActivities', 'HasReferences', 'Dropout']  \n",
    "for i in bool:\n",
    "    df[i]=df[i].astype(\"boolean\") # converting to \"boolean\" over \"bool\" allows preservation of NaNs\n",
    "\n",
    "date_columns = ['EnrollmentStart','EnrollmentFinish','LastPeriodStart','LastPeriodFinish','DateLastVisit']\n",
    "for i in date_columns:\n",
    "    df[i] = pd.to_datetime(df[i], format='%Y-%m-%d')\n",
    "\n",
    "df.dtypes"
   ]
  },
  {
   "cell_type": "code",
   "execution_count": 11,
   "id": "e713b9dc-777f-4501-bce8-561509a22df6",
   "metadata": {},
   "outputs": [
    {
     "data": {
      "text/plain": [
       "0"
      ]
     },
     "execution_count": 11,
     "metadata": {},
     "output_type": "execute_result"
    }
   ],
   "source": [
    "# Duplicated observations\n",
    "df.duplicated().sum()"
   ]
  },
  {
   "cell_type": "code",
   "execution_count": 12,
   "id": "30c00f20-6ed3-490d-9754-3d7a24324432",
   "metadata": {},
   "outputs": [
    {
     "data": {
      "text/html": [
       "<div>\n",
       "<style scoped>\n",
       "    .dataframe tbody tr th:only-of-type {\n",
       "        vertical-align: middle;\n",
       "    }\n",
       "\n",
       "    .dataframe tbody tr th {\n",
       "        vertical-align: top;\n",
       "    }\n",
       "\n",
       "    .dataframe thead th {\n",
       "        text-align: right;\n",
       "    }\n",
       "</style>\n",
       "<table border=\"1\" class=\"dataframe\">\n",
       "  <thead>\n",
       "    <tr style=\"text-align: right;\">\n",
       "      <th></th>\n",
       "      <th>Age</th>\n",
       "      <th>Gender</th>\n",
       "      <th>Income</th>\n",
       "      <th>EnrollmentStart</th>\n",
       "      <th>EnrollmentFinish</th>\n",
       "      <th>LastPeriodStart</th>\n",
       "      <th>LastPeriodFinish</th>\n",
       "      <th>DateLastVisit</th>\n",
       "      <th>DaysWithoutFrequency</th>\n",
       "      <th>LifetimeValue</th>\n",
       "      <th>...</th>\n",
       "      <th>OtherActivities</th>\n",
       "      <th>NumberOfFrequencies</th>\n",
       "      <th>AttendedClasses</th>\n",
       "      <th>AllowedWeeklyVisitsBySLA</th>\n",
       "      <th>AllowedNumberOfVisitsBySLA</th>\n",
       "      <th>RealNumberOfVisits</th>\n",
       "      <th>NumberOfRenewals</th>\n",
       "      <th>HasReferences</th>\n",
       "      <th>NumberOfReferences</th>\n",
       "      <th>Dropout</th>\n",
       "    </tr>\n",
       "  </thead>\n",
       "  <tbody>\n",
       "    <tr>\n",
       "      <th>8942</th>\n",
       "      <td>12</td>\n",
       "      <td>False</td>\n",
       "      <td>0.0</td>\n",
       "      <td>2019-06-18</td>\n",
       "      <td>2019-09-10</td>\n",
       "      <td>2019-07-01</td>\n",
       "      <td>2019-12-31</td>\n",
       "      <td>2019-07-31</td>\n",
       "      <td>41</td>\n",
       "      <td>73.35</td>\n",
       "      <td>...</td>\n",
       "      <td>False</td>\n",
       "      <td>14.0</td>\n",
       "      <td>7</td>\n",
       "      <td>5.0</td>\n",
       "      <td>44.3</td>\n",
       "      <td>10</td>\n",
       "      <td>1</td>\n",
       "      <td>False</td>\n",
       "      <td>0</td>\n",
       "      <td>True</td>\n",
       "    </tr>\n",
       "    <tr>\n",
       "      <th>12873</th>\n",
       "      <td>12</td>\n",
       "      <td>False</td>\n",
       "      <td>0.0</td>\n",
       "      <td>2019-06-18</td>\n",
       "      <td>2019-09-10</td>\n",
       "      <td>2019-07-01</td>\n",
       "      <td>2019-12-31</td>\n",
       "      <td>2019-07-31</td>\n",
       "      <td>41</td>\n",
       "      <td>73.35</td>\n",
       "      <td>...</td>\n",
       "      <td>False</td>\n",
       "      <td>14.0</td>\n",
       "      <td>7</td>\n",
       "      <td>5.0</td>\n",
       "      <td>44.3</td>\n",
       "      <td>10</td>\n",
       "      <td>1</td>\n",
       "      <td>False</td>\n",
       "      <td>0</td>\n",
       "      <td>True</td>\n",
       "    </tr>\n",
       "  </tbody>\n",
       "</table>\n",
       "<p>2 rows × 30 columns</p>\n",
       "</div>"
      ],
      "text/plain": [
       "       Age  Gender  Income EnrollmentStart EnrollmentFinish LastPeriodStart  \\\n",
       "8942    12   False     0.0      2019-06-18       2019-09-10      2019-07-01   \n",
       "12873   12   False     0.0      2019-06-18       2019-09-10      2019-07-01   \n",
       "\n",
       "      LastPeriodFinish DateLastVisit  DaysWithoutFrequency  LifetimeValue  \\\n",
       "8942        2019-12-31    2019-07-31                    41          73.35   \n",
       "12873       2019-12-31    2019-07-31                    41          73.35   \n",
       "\n",
       "       ...  OtherActivities  NumberOfFrequencies  AttendedClasses  \\\n",
       "8942   ...            False                 14.0                7   \n",
       "12873  ...            False                 14.0                7   \n",
       "\n",
       "       AllowedWeeklyVisitsBySLA  AllowedNumberOfVisitsBySLA  \\\n",
       "8942                        5.0                        44.3   \n",
       "12873                       5.0                        44.3   \n",
       "\n",
       "       RealNumberOfVisits  NumberOfRenewals  HasReferences  \\\n",
       "8942                   10                 1          False   \n",
       "12873                  10                 1          False   \n",
       "\n",
       "       NumberOfReferences  Dropout  \n",
       "8942                    0     True  \n",
       "12873                   0     True  \n",
       "\n",
       "[2 rows x 30 columns]"
      ]
     },
     "execution_count": 12,
     "metadata": {},
     "output_type": "execute_result"
    }
   ],
   "source": [
    "# Remove column 'ID' because it's an identifier and doesn't contribute to the clustering process\n",
    "df.drop('ID', axis=1, inplace=True)\n",
    "df[df.duplicated(keep=False)]"
   ]
  },
  {
   "cell_type": "code",
   "execution_count": 13,
   "id": "b66b2ca7-147d-44c8-99c1-cb63ba8e4025",
   "metadata": {},
   "outputs": [],
   "source": [
    "# Remove columns 'DanceActivities' and 'NatureActivities' because both have only 1 value\n",
    "df = df.drop(columns=['DanceActivities','NatureActivities'])"
   ]
  },
  {
   "cell_type": "markdown",
   "id": "6393a2e1-449f-4bdf-8850-fb7237c9f3dc",
   "metadata": {},
   "source": [
    "#### Enrollment"
   ]
  },
  {
   "cell_type": "code",
   "execution_count": 14,
   "id": "33d6cf1d-62ef-4e9e-b99e-57d7900180b8",
   "metadata": {},
   "outputs": [
    {
     "data": {
      "text/html": [
       "<div>\n",
       "<style scoped>\n",
       "    .dataframe tbody tr th:only-of-type {\n",
       "        vertical-align: middle;\n",
       "    }\n",
       "\n",
       "    .dataframe tbody tr th {\n",
       "        vertical-align: top;\n",
       "    }\n",
       "\n",
       "    .dataframe thead th {\n",
       "        text-align: right;\n",
       "    }\n",
       "</style>\n",
       "<table border=\"1\" class=\"dataframe\">\n",
       "  <thead>\n",
       "    <tr style=\"text-align: right;\">\n",
       "      <th></th>\n",
       "      <th>Age</th>\n",
       "      <th>Gender</th>\n",
       "      <th>Income</th>\n",
       "      <th>EnrollmentStart</th>\n",
       "      <th>EnrollmentFinish</th>\n",
       "      <th>LastPeriodStart</th>\n",
       "      <th>LastPeriodFinish</th>\n",
       "      <th>DateLastVisit</th>\n",
       "      <th>DaysWithoutFrequency</th>\n",
       "      <th>LifetimeValue</th>\n",
       "      <th>...</th>\n",
       "      <th>OtherActivities</th>\n",
       "      <th>NumberOfFrequencies</th>\n",
       "      <th>AttendedClasses</th>\n",
       "      <th>AllowedWeeklyVisitsBySLA</th>\n",
       "      <th>AllowedNumberOfVisitsBySLA</th>\n",
       "      <th>RealNumberOfVisits</th>\n",
       "      <th>NumberOfRenewals</th>\n",
       "      <th>HasReferences</th>\n",
       "      <th>NumberOfReferences</th>\n",
       "      <th>Dropout</th>\n",
       "    </tr>\n",
       "  </thead>\n",
       "  <tbody>\n",
       "  </tbody>\n",
       "</table>\n",
       "<p>0 rows × 28 columns</p>\n",
       "</div>"
      ],
      "text/plain": [
       "Empty DataFrame\n",
       "Columns: [Age, Gender, Income, EnrollmentStart, EnrollmentFinish, LastPeriodStart, LastPeriodFinish, DateLastVisit, DaysWithoutFrequency, LifetimeValue, UseByTime, AthleticsActivities, WaterActivities, FitnessActivities, TeamActivities, RacketActivities, CombatActivities, SpecialActivities, OtherActivities, NumberOfFrequencies, AttendedClasses, AllowedWeeklyVisitsBySLA, AllowedNumberOfVisitsBySLA, RealNumberOfVisits, NumberOfRenewals, HasReferences, NumberOfReferences, Dropout]\n",
       "Index: []\n",
       "\n",
       "[0 rows x 28 columns]"
      ]
     },
     "execution_count": 14,
     "metadata": {},
     "output_type": "execute_result"
    }
   ],
   "source": [
    "# Não há nenhuma incoerência em que EnrollmentStart seja depois de EnrollmentFinish\n",
    "df[df['EnrollmentStart'] > df['EnrollmentFinish']]"
   ]
  },
  {
   "cell_type": "code",
   "execution_count": 15,
   "id": "54cdc24b-fa8e-4018-a6e5-55282625859f",
   "metadata": {},
   "outputs": [
    {
     "data": {
      "text/html": [
       "<div>\n",
       "<style scoped>\n",
       "    .dataframe tbody tr th:only-of-type {\n",
       "        vertical-align: middle;\n",
       "    }\n",
       "\n",
       "    .dataframe tbody tr th {\n",
       "        vertical-align: top;\n",
       "    }\n",
       "\n",
       "    .dataframe thead th {\n",
       "        text-align: right;\n",
       "    }\n",
       "</style>\n",
       "<table border=\"1\" class=\"dataframe\">\n",
       "  <thead>\n",
       "    <tr style=\"text-align: right;\">\n",
       "      <th></th>\n",
       "      <th>Age</th>\n",
       "      <th>Gender</th>\n",
       "      <th>Income</th>\n",
       "      <th>EnrollmentStart</th>\n",
       "      <th>EnrollmentFinish</th>\n",
       "      <th>LastPeriodStart</th>\n",
       "      <th>LastPeriodFinish</th>\n",
       "      <th>DateLastVisit</th>\n",
       "      <th>DaysWithoutFrequency</th>\n",
       "      <th>LifetimeValue</th>\n",
       "      <th>...</th>\n",
       "      <th>OtherActivities</th>\n",
       "      <th>NumberOfFrequencies</th>\n",
       "      <th>AttendedClasses</th>\n",
       "      <th>AllowedWeeklyVisitsBySLA</th>\n",
       "      <th>AllowedNumberOfVisitsBySLA</th>\n",
       "      <th>RealNumberOfVisits</th>\n",
       "      <th>NumberOfRenewals</th>\n",
       "      <th>HasReferences</th>\n",
       "      <th>NumberOfReferences</th>\n",
       "      <th>Dropout</th>\n",
       "    </tr>\n",
       "  </thead>\n",
       "  <tbody>\n",
       "  </tbody>\n",
       "</table>\n",
       "<p>0 rows × 28 columns</p>\n",
       "</div>"
      ],
      "text/plain": [
       "Empty DataFrame\n",
       "Columns: [Age, Gender, Income, EnrollmentStart, EnrollmentFinish, LastPeriodStart, LastPeriodFinish, DateLastVisit, DaysWithoutFrequency, LifetimeValue, UseByTime, AthleticsActivities, WaterActivities, FitnessActivities, TeamActivities, RacketActivities, CombatActivities, SpecialActivities, OtherActivities, NumberOfFrequencies, AttendedClasses, AllowedWeeklyVisitsBySLA, AllowedNumberOfVisitsBySLA, RealNumberOfVisits, NumberOfRenewals, HasReferences, NumberOfReferences, Dropout]\n",
       "Index: []\n",
       "\n",
       "[0 rows x 28 columns]"
      ]
     },
     "execution_count": 15,
     "metadata": {},
     "output_type": "execute_result"
    }
   ],
   "source": [
    "# Não há nenhuma incoerência em que DateLastVisit seja depois de EnrollmentFinish, quando dropout=1\n",
    "df[(df['Dropout'] == 1) & (df['DateLastVisit'] > df['EnrollmentFinish'])]"
   ]
  },
  {
   "cell_type": "code",
   "execution_count": 13,
   "id": "b51db82f-1c0a-426a-9224-75a5c2355277",
   "metadata": {},
   "outputs": [
    {
     "data": {
      "text/html": [
       "<div>\n",
       "<style scoped>\n",
       "    .dataframe tbody tr th:only-of-type {\n",
       "        vertical-align: middle;\n",
       "    }\n",
       "\n",
       "    .dataframe tbody tr th {\n",
       "        vertical-align: top;\n",
       "    }\n",
       "\n",
       "    .dataframe thead th {\n",
       "        text-align: right;\n",
       "    }\n",
       "</style>\n",
       "<table border=\"1\" class=\"dataframe\">\n",
       "  <thead>\n",
       "    <tr style=\"text-align: right;\">\n",
       "      <th></th>\n",
       "      <th>Age</th>\n",
       "      <th>Gender</th>\n",
       "      <th>Income</th>\n",
       "      <th>EnrollmentStart</th>\n",
       "      <th>EnrollmentFinish</th>\n",
       "      <th>LastPeriodStart</th>\n",
       "      <th>LastPeriodFinish</th>\n",
       "      <th>DateLastVisit</th>\n",
       "      <th>DaysWithoutFrequency</th>\n",
       "      <th>LifetimeValue</th>\n",
       "      <th>...</th>\n",
       "      <th>OtherActivities</th>\n",
       "      <th>NumberOfFrequencies</th>\n",
       "      <th>AttendedClasses</th>\n",
       "      <th>AllowedWeeklyVisitsBySLA</th>\n",
       "      <th>AllowedNumberOfVisitsBySLA</th>\n",
       "      <th>RealNumberOfVisits</th>\n",
       "      <th>NumberOfRenewals</th>\n",
       "      <th>HasReferences</th>\n",
       "      <th>NumberOfReferences</th>\n",
       "      <th>Dropout</th>\n",
       "    </tr>\n",
       "  </thead>\n",
       "  <tbody>\n",
       "  </tbody>\n",
       "</table>\n",
       "<p>0 rows × 28 columns</p>\n",
       "</div>"
      ],
      "text/plain": [
       "Empty DataFrame\n",
       "Columns: [Age, Gender, Income, EnrollmentStart, EnrollmentFinish, LastPeriodStart, LastPeriodFinish, DateLastVisit, DaysWithoutFrequency, LifetimeValue, UseByTime, AthleticsActivities, WaterActivities, FitnessActivities, TeamActivities, RacketActivities, CombatActivities, SpecialActivities, OtherActivities, NumberOfFrequencies, AttendedClasses, AllowedWeeklyVisitsBySLA, AllowedNumberOfVisitsBySLA, RealNumberOfVisits, NumberOfRenewals, HasReferences, NumberOfReferences, Dropout]\n",
       "Index: []\n",
       "\n",
       "[0 rows x 28 columns]"
      ]
     },
     "execution_count": 13,
     "metadata": {},
     "output_type": "execute_result"
    }
   ],
   "source": [
    "# Não há nenhuma observação em que EnrollmentStart e EnrollmentFinish sejam iguais e Dropout=1.\n",
    "# Isso só acontece quando o cliente ainda está inscrito (Dropout=0)\n",
    "df[(df['EnrollmentStart'] == df['EnrollmentFinish']) & df['Dropout'] == 1]"
   ]
  },
  {
   "cell_type": "code",
   "execution_count": 14,
   "id": "32b3e36f-13a9-46d1-bcf7-e69e0fbf518e",
   "metadata": {},
   "outputs": [],
   "source": [
    "# Se dropout=0 (o cliente ainda está inscrito), então EnrollmentFinish deve ser a data de até quando foram recolhidos os dados: 2019-10-31.\n",
    "df.loc[df['Dropout'] == 0, 'EnrollmentFinish'] = pd.to_datetime('2019-10-31')"
   ]
  },
  {
   "cell_type": "code",
   "execution_count": 15,
   "id": "9c65ee28-ee41-4c2b-934c-096183351bf9",
   "metadata": {},
   "outputs": [],
   "source": [
    "# Calculate the difference in days between EnrollmentStart and EnrollmentFinish.\n",
    "df['DaysEnrolled'] = (df['EnrollmentFinish'] - df['EnrollmentStart']).dt.days"
   ]
  },
  {
   "cell_type": "code",
   "execution_count": null,
   "id": "57684fcc-d9f4-4f21-ac41-8e8d839fc752",
   "metadata": {},
   "outputs": [],
   "source": [
    "df['Regularity'] = df['NumberOfFrequences'] / df['DaysEnrolled']"
   ]
  },
  {
   "cell_type": "markdown",
   "id": "3c435349-433c-4fdc-9206-b9d4bae6dd41",
   "metadata": {},
   "source": [
    "#### Activities"
   ]
  },
  {
   "cell_type": "code",
   "execution_count": 16,
   "id": "9b9e7b41-933d-4579-b9d4-bd16c7cdf8cc",
   "metadata": {},
   "outputs": [
    {
     "data": {
      "text/plain": [
       "NumberOfActivities\n",
       "1    0.910655\n",
       "2    0.079441\n",
       "3    0.006559\n",
       "0     0.00261\n",
       "4    0.000602\n",
       "5    0.000134\n",
       "Name: proportion, dtype: Float64"
      ]
     },
     "execution_count": 16,
     "metadata": {},
     "output_type": "execute_result"
    }
   ],
   "source": [
    "activity_columns = ['AthleticsActivities', 'WaterActivities', 'FitnessActivities', 'TeamActivities',\n",
    "                    'RacketActivities', 'CombatActivities', 'SpecialActivities', 'OtherActivities']\n",
    "\n",
    "# Create a new column 'TotalActivities' by summing the binary columns\n",
    "df['NumberOfActivities'] = df[activity_columns].sum(axis=1)\n",
    "\n",
    "df['NumberOfActivities'].value_counts(normalize=True)"
   ]
  },
  {
   "cell_type": "code",
   "execution_count": 17,
   "id": "5de0eeda-5009-45ed-b661-36f450b8b32b",
   "metadata": {},
   "outputs": [
    {
     "data": {
      "text/html": [
       "<div>\n",
       "<style scoped>\n",
       "    .dataframe tbody tr th:only-of-type {\n",
       "        vertical-align: middle;\n",
       "    }\n",
       "\n",
       "    .dataframe tbody tr th {\n",
       "        vertical-align: top;\n",
       "    }\n",
       "\n",
       "    .dataframe thead th {\n",
       "        text-align: right;\n",
       "    }\n",
       "</style>\n",
       "<table border=\"1\" class=\"dataframe\">\n",
       "  <thead>\n",
       "    <tr style=\"text-align: right;\">\n",
       "      <th></th>\n",
       "      <th>ActivityCount</th>\n",
       "    </tr>\n",
       "  </thead>\n",
       "  <tbody>\n",
       "    <tr>\n",
       "      <th>FitnessActivities</th>\n",
       "      <td>8587</td>\n",
       "    </tr>\n",
       "    <tr>\n",
       "      <th>WaterActivities</th>\n",
       "      <td>4415</td>\n",
       "    </tr>\n",
       "    <tr>\n",
       "      <th>CombatActivities</th>\n",
       "      <td>1609</td>\n",
       "    </tr>\n",
       "    <tr>\n",
       "      <th>TeamActivities</th>\n",
       "      <td>828</td>\n",
       "    </tr>\n",
       "    <tr>\n",
       "      <th>SpecialActivities</th>\n",
       "      <td>395</td>\n",
       "    </tr>\n",
       "    <tr>\n",
       "      <th>RacketActivities</th>\n",
       "      <td>349</td>\n",
       "    </tr>\n",
       "    <tr>\n",
       "      <th>AthleticsActivities</th>\n",
       "      <td>110</td>\n",
       "    </tr>\n",
       "    <tr>\n",
       "      <th>OtherActivities</th>\n",
       "      <td>28</td>\n",
       "    </tr>\n",
       "  </tbody>\n",
       "</table>\n",
       "</div>"
      ],
      "text/plain": [
       "                     ActivityCount\n",
       "FitnessActivities             8587\n",
       "WaterActivities               4415\n",
       "CombatActivities              1609\n",
       "TeamActivities                 828\n",
       "SpecialActivities              395\n",
       "RacketActivities               349\n",
       "AthleticsActivities            110\n",
       "OtherActivities                 28"
      ]
     },
     "execution_count": 17,
     "metadata": {},
     "output_type": "execute_result"
    }
   ],
   "source": [
    "pd.DataFrame(df[activity_columns].sum(axis=0), columns=['ActivityCount']).sort_values('ActivityCount', ascending=False)"
   ]
  },
  {
   "cell_type": "markdown",
   "id": "568819f7-7839-4c6e-899d-b1e9a358e05f",
   "metadata": {},
   "source": [
    "#### HasReferences"
   ]
  },
  {
   "cell_type": "code",
   "execution_count": 18,
   "id": "5599d1cc-0d3e-4417-9b26-ea619a1078b1",
   "metadata": {
    "scrolled": true
   },
   "outputs": [
    {
     "data": {
      "text/plain": [
       "HasReferences    False\n",
       "Name: 0, dtype: boolean"
      ]
     },
     "execution_count": 18,
     "metadata": {},
     "output_type": "execute_result"
    }
   ],
   "source": [
    "# Em certas observações, 'HasReferences' tem valor 1 quando 'NumberOfReferences’ é 0\n",
    "df[['HasReferences']].mode().loc[0]"
   ]
  },
  {
   "cell_type": "code",
   "execution_count": 19,
   "id": "d20807b4-d1ed-432c-8137-dc169573007e",
   "metadata": {},
   "outputs": [],
   "source": [
    "# Como a moda de 'HasReferences' é 0, então nas observações em que 'HasReferences'==1\n",
    "# e 'NumberOfReferences'==0, faz sentido mudar a variável 'HasReferences' para 0, em vez de\n",
    "# mudarmos 'NumberOfReferences' para outro valor\n",
    "\n",
    "df.loc[(df['HasReferences'] == 1) & (df['NumberOfReferences'] == 0), 'HasReferences'] = False"
   ]
  },
  {
   "cell_type": "markdown",
   "id": "995e67c4-f65d-4f82-813a-1838a8b3fea5",
   "metadata": {},
   "source": [
    "### Relevancy"
   ]
  },
  {
   "cell_type": "code",
   "execution_count": null,
   "id": "ef6420df-c979-42ea-abfb-4bb766937572",
   "metadata": {},
   "outputs": [],
   "source": [
    "df_copy = df.copy"
   ]
  },
  {
   "cell_type": "code",
   "execution_count": 21,
   "id": "042420b7-920e-4bf6-a906-a1abdb8dc826",
   "metadata": {},
   "outputs": [],
   "source": [
    "df_copy.drop(['EnrollmentStart', 'EnrollmentFinish', 'LastPeriodStart',\n",
    "         'LastPeriodFinish', 'DateLastVisit'], axis=1, inplace=True)"
   ]
  },
  {
   "cell_type": "code",
   "execution_count": 20,
   "id": "ac008a7b-63bc-45ee-bccd-c43ab130e22c",
   "metadata": {},
   "outputs": [],
   "source": [
    "df_copy.drop('HasReferences', axis=1, inplace=True)"
   ]
  },
  {
   "cell_type": "code",
   "execution_count": 35,
   "id": "8078aa2a-3c3f-4730-85ab-ac9930d26742",
   "metadata": {},
   "outputs": [],
   "source": [
    "df_copy.drop(['UseByTime','AllowedNumberOfVisitsBySLA','RealNumberOfVisits'], axis=1, inplace=True)"
   ]
  },
  {
   "cell_type": "code",
   "execution_count": 30,
   "id": "7cb3f28a-4299-4f39-94df-be4251e3810f",
   "metadata": {},
   "outputs": [
    {
     "data": {
      "text/plain": [
       "AllowedWeeklyVisitsBySLA\n",
       "7.0    10505\n",
       "2.0     2341\n",
       "4.0      742\n",
       "1.0      525\n",
       "3.0      160\n",
       "6.0      118\n",
       "5.0       16\n",
       "Name: count, dtype: int64"
      ]
     },
     "execution_count": 30,
     "metadata": {},
     "output_type": "execute_result"
    }
   ],
   "source": [
    "df_copy['AllowedWeeklyVisitsBySLA'].value_counts()"
   ]
  },
  {
   "cell_type": "code",
   "execution_count": 31,
   "id": "f7d10e41-d5c8-462c-9b9d-d39b3ef41e83",
   "metadata": {},
   "outputs": [
    {
     "data": {
      "text/plain": [
       "Index(['Age', 'Gender', 'Income', 'DaysWithoutFrequency', 'LifetimeValue',\n",
       "       'UseByTime', 'AthleticsActivities', 'WaterActivities',\n",
       "       'FitnessActivities', 'TeamActivities', 'RacketActivities',\n",
       "       'CombatActivities', 'SpecialActivities', 'OtherActivities',\n",
       "       'NumberOfFrequencies', 'AttendedClasses', 'AllowedWeeklyVisitsBySLA',\n",
       "       'NumberOfRenewals', 'NumberOfReferences', 'Dropout', 'DaysEnrolled',\n",
       "       'NumberOfActivities'],\n",
       "      dtype='object')"
      ]
     },
     "execution_count": 31,
     "metadata": {},
     "output_type": "execute_result"
    }
   ],
   "source": [
    "df_copy.columns"
   ]
  },
  {
   "cell_type": "code",
   "execution_count": 32,
   "id": "c3900e2e-0219-4597-bbbc-d2d719b8d925",
   "metadata": {},
   "outputs": [
    {
     "name": "stdout",
     "output_type": "stream",
     "text": [
      "['Gender', 'UseByTime', 'AthleticsActivities', 'WaterActivities', 'FitnessActivities', 'TeamActivities', 'RacketActivities', 'CombatActivities', 'SpecialActivities', 'OtherActivities', 'Dropout']\n"
     ]
    }
   ],
   "source": [
    "metric_features = ['Age', 'Income', 'DaysWithoutFrequency', 'LifetimeValue',\n",
    "                   'NumberOfFrequencies', 'AttendedClasses', 'AllowedWeeklyVisitsBySLA',\n",
    "                   'NumberOfRenewals', 'NumberOfReferences', 'DaysEnrolled', 'NumberOfActivities']\n",
    "non_metric_features = df_copy.columns.drop(metric_features).tolist()\n",
    "print(non_metric_features)"
   ]
  },
  {
   "cell_type": "code",
   "execution_count": null,
   "id": "632cf19b-40fa-40c7-85bd-8a5621d1e9e7",
   "metadata": {},
   "outputs": [],
   "source": []
  },
  {
   "cell_type": "markdown",
   "id": "db1744bf-9bd9-43be-886d-c263b4d5f09d",
   "metadata": {},
   "source": [
    "---------------------"
   ]
  },
  {
   "cell_type": "markdown",
   "id": "67ac9d2f-4c6d-4d8f-970e-284f58bd08dc",
   "metadata": {},
   "source": [
    "## Missing Values"
   ]
  },
  {
   "cell_type": "code",
   "execution_count": 33,
   "id": "220cdf9a-7440-4b4d-9535-e55b09d4dd55",
   "metadata": {},
   "outputs": [
    {
     "data": {
      "text/plain": [
       "Age                           0\n",
       "Dropout                       0\n",
       "NumberOfReferences            0\n",
       "NumberOfRenewals              0\n",
       "AttendedClasses               0\n",
       "DaysEnrolled                  0\n",
       "NumberOfActivities            0\n",
       "UseByTime                     0\n",
       "LifetimeValue                 0\n",
       "DaysWithoutFrequency          0\n",
       "Gender                        0\n",
       "NumberOfFrequencies          26\n",
       "CombatActivities             33\n",
       "FitnessActivities            35\n",
       "TeamActivities               35\n",
       "OtherActivities              35\n",
       "AthleticsActivities          36\n",
       "WaterActivities              37\n",
       "RacketActivities             37\n",
       "SpecialActivities            44\n",
       "Income                      495\n",
       "AllowedWeeklyVisitsBySLA    535\n",
       "dtype: int64"
      ]
     },
     "execution_count": 33,
     "metadata": {},
     "output_type": "execute_result"
    }
   ],
   "source": [
    "# Count of missing values\n",
    "df.isna().sum().sort_values()"
   ]
  },
  {
   "cell_type": "code",
   "execution_count": 30,
   "id": "5cd8386a-b2bd-4e65-94c4-26191f4374d9",
   "metadata": {},
   "outputs": [
    {
     "data": {
      "text/plain": [
       "0"
      ]
     },
     "execution_count": 30,
     "metadata": {},
     "output_type": "execute_result"
    }
   ],
   "source": [
    "# Fill missing values in 'HasReferences' based on 'NumberOfReferences'\n",
    "df['HasReferences'] = df['HasReferences'].fillna(df['NumberOfReferences'].gt(0).astype(int))\n",
    "\n",
    "# If 'NumberOfReferences' is 0, the missing value in 'HasReferences' is filled with 0.\n",
    "# If 'NumberOfReferences' is greater than 0, the missing value in 'HasReferences' is filled with 1.\n",
    "\n",
    "df['HasReferences'].isna().sum()"
   ]
  },
  {
   "cell_type": "code",
   "execution_count": 31,
   "id": "6f2bda9a-cc1a-4718-a449-e08516ef58d9",
   "metadata": {},
   "outputs": [],
   "source": [
    "df.loc[(df['HasReferences'] == 1) & (df['NumberOfReferences'] == 0), 'HasReferences'] = False"
   ]
  },
  {
   "cell_type": "code",
   "execution_count": 32,
   "id": "23c67eee-399f-462c-b5d8-9d329cc0e1f7",
   "metadata": {},
   "outputs": [
    {
     "data": {
      "text/html": [
       "<div>\n",
       "<style scoped>\n",
       "    .dataframe tbody tr th:only-of-type {\n",
       "        vertical-align: middle;\n",
       "    }\n",
       "\n",
       "    .dataframe tbody tr th {\n",
       "        vertical-align: top;\n",
       "    }\n",
       "\n",
       "    .dataframe thead th {\n",
       "        text-align: right;\n",
       "    }\n",
       "</style>\n",
       "<table border=\"1\" class=\"dataframe\">\n",
       "  <thead>\n",
       "    <tr style=\"text-align: right;\">\n",
       "      <th></th>\n",
       "      <th>Age</th>\n",
       "      <th>Gender</th>\n",
       "      <th>Income</th>\n",
       "      <th>EnrollmentStart</th>\n",
       "      <th>EnrollmentFinish</th>\n",
       "      <th>LastPeriodStart</th>\n",
       "      <th>LastPeriodFinish</th>\n",
       "      <th>DateLastVisit</th>\n",
       "      <th>DaysWithoutFrequency</th>\n",
       "      <th>LifetimeValue</th>\n",
       "      <th>...</th>\n",
       "      <th>NumberOfFrequencies</th>\n",
       "      <th>AttendedClasses</th>\n",
       "      <th>AllowedWeeklyVisitsBySLA</th>\n",
       "      <th>AllowedNumberOfVisitsBySLA</th>\n",
       "      <th>RealNumberOfVisits</th>\n",
       "      <th>NumberOfRenewals</th>\n",
       "      <th>HasReferences</th>\n",
       "      <th>NumberOfReferences</th>\n",
       "      <th>Dropout</th>\n",
       "      <th>DaysEnrolled</th>\n",
       "    </tr>\n",
       "  </thead>\n",
       "  <tbody>\n",
       "  </tbody>\n",
       "</table>\n",
       "<p>0 rows × 29 columns</p>\n",
       "</div>"
      ],
      "text/plain": [
       "Empty DataFrame\n",
       "Columns: [Age, Gender, Income, EnrollmentStart, EnrollmentFinish, LastPeriodStart, LastPeriodFinish, DateLastVisit, DaysWithoutFrequency, LifetimeValue, UseByTime, AthleticsActivities, WaterActivities, FitnessActivities, TeamActivities, RacketActivities, CombatActivities, SpecialActivities, OtherActivities, NumberOfFrequencies, AttendedClasses, AllowedWeeklyVisitsBySLA, AllowedNumberOfVisitsBySLA, RealNumberOfVisits, NumberOfRenewals, HasReferences, NumberOfReferences, Dropout, DaysEnrolled]\n",
       "Index: []\n",
       "\n",
       "[0 rows x 29 columns]"
      ]
     },
     "execution_count": 32,
     "metadata": {},
     "output_type": "execute_result"
    }
   ],
   "source": [
    "df[(df['HasReferences'] == 1) & (df['NumberOfReferences'] == 0)]"
   ]
  },
  {
   "cell_type": "code",
   "execution_count": 36,
   "id": "68edcf90-9e6c-440e-8928-c379cb7d1879",
   "metadata": {},
   "outputs": [
    {
     "data": {
      "text/plain": [
       "Age                           0\n",
       "Gender                        0\n",
       "Income                      495\n",
       "DaysWithoutFrequency          0\n",
       "LifetimeValue                 0\n",
       "UseByTime                     0\n",
       "AthleticsActivities           0\n",
       "WaterActivities               0\n",
       "FitnessActivities             0\n",
       "TeamActivities                0\n",
       "RacketActivities              0\n",
       "CombatActivities              0\n",
       "SpecialActivities             0\n",
       "OtherActivities               0\n",
       "NumberOfFrequencies          26\n",
       "AttendedClasses               0\n",
       "AllowedWeeklyVisitsBySLA    535\n",
       "NumberOfRenewals              0\n",
       "NumberOfReferences            0\n",
       "Dropout                       0\n",
       "DaysEnrolled                  0\n",
       "NumberOfActivities            0\n",
       "dtype: int64"
      ]
     },
     "execution_count": 36,
     "metadata": {},
     "output_type": "execute_result"
    }
   ],
   "source": [
    "# Fill missing values with the mode\n",
    "columns_to_fill = ['AthleticsActivities', 'WaterActivities', 'FitnessActivities', 'TeamActivities',\n",
    "                   'RacketActivities', 'CombatActivities', 'SpecialActivities', 'OtherActivities']\n",
    "for column in columns_to_fill:\n",
    "    mode_value = df[column].mode().iloc[0]  # Calculate the mode\n",
    "    df[column] = df[column].fillna(mode_value)\n",
    "\n",
    "df.isna().sum()"
   ]
  },
  {
   "cell_type": "code",
   "execution_count": 34,
   "id": "fee752c5-3423-4ad1-9d9b-e00db1d1c6be",
   "metadata": {},
   "outputs": [],
   "source": [
    "# Fill missing values with the KNN Imputer\n",
    "imputer = KNNImputer(n_neighbors=5, weights=\"uniform\")\n",
    "df[metric_features] = imputer.fit_transform(df[metric_features])"
   ]
  },
  {
   "cell_type": "code",
   "execution_count": 35,
   "id": "ec99bd8d-5bb8-4076-8421-4bba1412383a",
   "metadata": {},
   "outputs": [
    {
     "data": {
      "text/plain": [
       "Age                           0\n",
       "Gender                        0\n",
       "Income                        0\n",
       "EnrollmentStart               0\n",
       "EnrollmentFinish              0\n",
       "LastPeriodStart               0\n",
       "LastPeriodFinish              0\n",
       "DateLastVisit                 0\n",
       "DaysWithoutFrequency          0\n",
       "LifetimeValue                 0\n",
       "UseByTime                     0\n",
       "AthleticsActivities           0\n",
       "WaterActivities               0\n",
       "FitnessActivities             0\n",
       "TeamActivities                0\n",
       "RacketActivities              0\n",
       "CombatActivities              0\n",
       "SpecialActivities             0\n",
       "OtherActivities               0\n",
       "NumberOfFrequencies           0\n",
       "AttendedClasses               0\n",
       "AllowedWeeklyVisitsBySLA      0\n",
       "AllowedNumberOfVisitsBySLA    0\n",
       "RealNumberOfVisits            0\n",
       "NumberOfRenewals              0\n",
       "HasReferences                 0\n",
       "NumberOfReferences            0\n",
       "Dropout                       0\n",
       "DaysEnrolled                  0\n",
       "dtype: int64"
      ]
     },
     "execution_count": 35,
     "metadata": {},
     "output_type": "execute_result"
    }
   ],
   "source": [
    "# Recount of missing values\n",
    "df.isna().sum()"
   ]
  },
  {
   "cell_type": "code",
   "execution_count": 38,
   "id": "a72edd77-c721-4350-8fa9-007324597ae3",
   "metadata": {},
   "outputs": [
    {
     "data": {
      "text/plain": [
       "Age                                float64\n",
       "Gender                               int32\n",
       "Income                             float64\n",
       "EnrollmentStart             datetime64[ns]\n",
       "EnrollmentFinish            datetime64[ns]\n",
       "LastPeriodStart             datetime64[ns]\n",
       "LastPeriodFinish            datetime64[ns]\n",
       "DateLastVisit               datetime64[ns]\n",
       "DaysWithoutFrequency               float64\n",
       "LifetimeValue                      float64\n",
       "UseByTime                            int32\n",
       "AthleticsActivities                  int32\n",
       "WaterActivities                      int32\n",
       "FitnessActivities                    int32\n",
       "TeamActivities                       int32\n",
       "RacketActivities                     int32\n",
       "CombatActivities                     int32\n",
       "SpecialActivities                    int32\n",
       "OtherActivities                      int32\n",
       "NumberOfFrequencies                float64\n",
       "AttendedClasses                    float64\n",
       "AllowedWeeklyVisitsBySLA           float64\n",
       "RealNumberOfVisits                 float64\n",
       "NumberOfRenewals                   float64\n",
       "HasReferences                        int32\n",
       "NumberOfReferences                 float64\n",
       "Dropout                              int32\n",
       "DaysEnrolled                         int64\n",
       "dtype: object"
      ]
     },
     "execution_count": 38,
     "metadata": {},
     "output_type": "execute_result"
    }
   ],
   "source": [
    "# Handling Boolean Columns\n",
    "boolean_columns = ['UseByTime', 'AthleticsActivities', 'WaterActivities', 'FitnessActivities',\n",
    "                   'TeamActivities', 'RacketActivities', 'CombatActivities', 'SpecialActivities',\n",
    "                   'OtherActivities', 'HasReferences', 'Dropout']\n",
    "\n",
    "df[boolean_columns] = df[boolean_columns].astype(int)\n",
    "\n",
    "df.dtypes"
   ]
  },
  {
   "cell_type": "code",
   "execution_count": null,
   "id": "952e4cd7-5c1b-4ba9-be0e-927536068f61",
   "metadata": {},
   "outputs": [],
   "source": [
    "#df.to_csv('df_clean', index=True)"
   ]
  },
  {
   "cell_type": "markdown",
   "id": "0a1ff4d3-967b-4b1a-9bac-a0c0686cf12d",
   "metadata": {},
   "source": [
    "## Treating Outliers"
   ]
  },
  {
   "cell_type": "markdown",
   "id": "9562c0f6-6291-4a50-8148-7a869c17c637",
   "metadata": {},
   "source": [
    "__\"Manually\" filtering the dataset's outliers__"
   ]
  },
  {
   "cell_type": "code",
   "execution_count": 39,
   "id": "91643f10-d82b-4e5e-9f94-5d04145f9122",
   "metadata": {},
   "outputs": [
    {
     "name": "stdout",
     "output_type": "stream",
     "text": [
      "Percentage of data kept after removing outliers: 0.9842\n",
      "Percentage of data removed: 0.0158\n"
     ]
    }
   ],
   "source": [
    "filters1 = ((df['Income']<=8000) &\n",
    "            (df['DaysWithoutFrequency']<=1000) &\n",
    "            (df['LifetimeValue']<=2500) &\n",
    "            (df['NumberOfFrequencies']<=500) &\n",
    "            (df['AttendedClasses']<=200) &\n",
    "            (df['RealNumberOfVisits']<=60))\n",
    "\n",
    "df_1 = df[filters1]\n",
    "\n",
    "print('Percentage of data kept after removing outliers:', np.round(df_1.shape[0] / df_original.shape[0], 4))\n",
    "print('Percentage of data removed:', np.round(1 - np.round(df_1.shape[0] / df_original.shape[0], 4), 4))"
   ]
  },
  {
   "cell_type": "code",
   "execution_count": 40,
   "id": "510a4a70-9d78-4bca-9da1-cf063aa14250",
   "metadata": {},
   "outputs": [],
   "source": [
    "df_1_copy = df_1.copy()"
   ]
  },
  {
   "cell_type": "code",
   "execution_count": 42,
   "id": "bbb3853d-7545-4115-bc85-16c076a13ca8",
   "metadata": {},
   "outputs": [],
   "source": [
    "metric_features = ['Age', 'Income', 'DaysWithoutFrequency', 'LifetimeValue',\n",
    "                   'NumberOfFrequencies', 'AttendedClasses', 'AllowedWeeklyVisitsBySLA',\n",
    "                   'RealNumberOfVisits', 'NumberOfRenewals', 'NumberOfReferences']"
   ]
  },
  {
   "cell_type": "code",
   "execution_count": 43,
   "id": "a81fa3eb-612f-4a7a-babf-7dc0b4360018",
   "metadata": {},
   "outputs": [
    {
     "data": {
      "image/png": "[encoded data removed]",
      "text/plain": [
       "<Figure size 2000x1100 with 12 Axes>"
      ]
     },
     "metadata": {},
     "output_type": "display_data"
    }
   ],
   "source": [
    "sns.set()\n",
    "\n",
    "# Prepare figure. Create individual axes where each box plot will be placed\n",
    "fig, axes = plt.subplots(3, ceil(len(metric_features) / 3), figsize=(20, 11))\n",
    "\n",
    "# Plot data\n",
    "# Iterate across axes objects and associate each box plot\n",
    "for ax, feat in zip(axes.flatten(), metric_features):\n",
    "    sns.boxplot(x=df_1_copy[feat], ax=ax)\n",
    "    \n",
    "plt.suptitle(\"Numeric Variables' Box Plots\")\n",
    "plt.show()"
   ]
  },
  {
   "cell_type": "markdown",
   "id": "887d5908-ecdf-4bf8-a5ed-400feae00a48",
   "metadata": {},
   "source": [
    "__Outlier removal using only the IQR method__"
   ]
  },
  {
   "cell_type": "code",
   "execution_count": 44,
   "id": "2e5a18e1-3744-494f-80f7-5b42b46f096f",
   "metadata": {},
   "outputs": [
    {
     "name": "stdout",
     "output_type": "stream",
     "text": [
      "Percentage of data kept after removing outliers: 0.5568\n"
     ]
    }
   ],
   "source": [
    "# Calculate quartiles and IQR\n",
    "q25 = df[metric_features].quantile(.25)\n",
    "q75 = df[metric_features].quantile(.75)\n",
    "iqr = (q75 - q25)\n",
    "\n",
    "# Define lower and upper bounds\n",
    "upper_lim = q75 + 1.5 * iqr   # 1.5 is a value we can change\n",
    "lower_lim = q25 - 1.5 * iqr\n",
    "\n",
    "# Remove outliers\n",
    "filters2 = []\n",
    "for metric in metric_features:\n",
    "    llim = lower_lim[metric]\n",
    "    ulim = upper_lim[metric]\n",
    "    filters2.append(df[metric].between(llim, ulim, inclusive='both'))\n",
    "\n",
    "filters2 = pd.Series(np.all(filters2, 0))\n",
    "df_2 = df[filters2]\n",
    "\n",
    "print('Percentage of data kept after removing outliers:', np.round(df_2.shape[0] / df_original.shape[0], 4))"
   ]
  },
  {
   "cell_type": "markdown",
   "id": "f65a5a9a-b2d4-4829-8853-75335d5887cd",
   "metadata": {},
   "source": [
    "__Combining different outlier methods__"
   ]
  },
  {
   "cell_type": "code",
   "execution_count": 45,
   "id": "9806719d-f394-4e8e-b575-2183224bc4ae",
   "metadata": {},
   "outputs": [
    {
     "name": "stdout",
     "output_type": "stream",
     "text": [
      "Percentage of data kept after removing outliers: 0.9842\n"
     ]
    }
   ],
   "source": [
    "# More robust/consistent outlier detection method:\n",
    "df_3 = df[(filters1 | filters2)]\n",
    "print('Percentage of data kept after removing outliers:', np.round(df_3.shape[0] / df_original.shape[0], 4))\n",
    "# this way only if i have an observation consider outlier in both of the approaches than i will call it an outlier"
   ]
  },
  {
   "cell_type": "code",
   "execution_count": 46,
   "id": "70789a57-6503-4dfc-bdeb-83a557e982e4",
   "metadata": {},
   "outputs": [],
   "source": [
    "# Get the manual filtering version\n",
    "df_features = df_1.copy()"
   ]
  },
  {
   "cell_type": "markdown",
   "id": "03b58d2b-6f1d-4335-8033-29542e5de179",
   "metadata": {},
   "source": [
    "## Feature Engineering"
   ]
  },
  {
   "cell_type": "code",
   "execution_count": null,
   "id": "d00fd573-dd79-4ee9-a5d1-716a9683b98b",
   "metadata": {},
   "outputs": [],
   "source": []
  },
  {
   "cell_type": "markdown",
   "id": "df1ea0a7-b5c2-4b0c-abd9-8e37f03db3bf",
   "metadata": {},
   "source": [
    "## Variable selection: Redundancy VS Relevancy"
   ]
  },
  {
   "cell_type": "markdown",
   "id": "7e98bd6a-b534-4834-adb6-c1f279bdba7c",
   "metadata": {},
   "source": [
    "**Redundancy:** Handling highly correlated variables"
   ]
  },
  {
   "cell_type": "code",
   "execution_count": null,
   "id": "17802d37-a8cf-4b27-9663-cf7c0c68ad8b",
   "metadata": {},
   "outputs": [],
   "source": []
  },
  {
   "cell_type": "markdown",
   "id": "d7a8c419-999c-4cdd-8d2c-e5e9d64b5bd1",
   "metadata": {},
   "source": [
    "**Relevancy:** Selecting variables based on the relevancy of each one to the task.\n",
    "\n",
    "Example: remove uncorrelated variables with the target, stepwise regression, use variables for product clustering, use variables for socio-demographic clustering, ...   \n",
    "Variables that aren't correlated with any other variable are often also not relevant. In this case we will not focus on this a lot since we don't have a defined task yet."
   ]
  },
  {
   "cell_type": "code",
   "execution_count": null,
   "id": "2ed8b293-61f3-4b93-bdc3-7c10c30b508a",
   "metadata": {},
   "outputs": [],
   "source": [
    "df_features.drop(['LastPeriodStart','LastPeriodFinish'],axis=1,inplace=True)"
   ]
  },
  {
   "cell_type": "code",
   "execution_count": null,
   "id": "b34247b9-2e5c-4737-b3cd-237ba0caaa42",
   "metadata": {},
   "outputs": [],
   "source": [
    "# The DaysWithoutFrequency are the days between the DateLastVisit and the EnrollmentFinish\n",
    "df_features[df_features['DateLastVisit'] + pd.to_timedelta(df_features['DaysWithoutFrequency'], unit='D') == df_features['EnrollmentFinish']]"
   ]
  },
  {
   "cell_type": "code",
   "execution_count": null,
   "id": "d4afa276-35b2-490d-9208-89ea11a4b77f",
   "metadata": {},
   "outputs": [],
   "source": [
    "df_features['UseByTime'].value_counts(normalize=True)"
   ]
  },
  {
   "cell_type": "code",
   "execution_count": null,
   "id": "9d497e88-ea2b-4aaf-9d53-ba715cdd0a48",
   "metadata": {},
   "outputs": [],
   "source": [
    "df_features[df_features['EnrollmentStart']==df_features['EnrollmentFinish']].loc[:,'EnrollmentStart':'UseByTime']"
   ]
  },
  {
   "cell_type": "code",
   "execution_count": null,
   "id": "a3d6bd99-8c38-4830-b949-3b82f68ac957",
   "metadata": {},
   "outputs": [],
   "source": [
    "df_features[df_features['LifetimeValue'] == df_features['LifetimeValue'].max()]"
   ]
  },
  {
   "cell_type": "code",
   "execution_count": null,
   "id": "c8a1079a-94c3-4f66-b6c5-4edf3a8c0cdf",
   "metadata": {},
   "outputs": [],
   "source": [
    "# Calcular a diferença de tempo e criar uma nova coluna no DataFrame\n",
    "df_features['EnrollmentPeriod'] = df_features.apply(lambda row: (row['EnrollmentFinish'] - row['EnrollmentStart']).days, axis=1)\n",
    "\n",
    "# Exibir o DataFrame resultante\n",
    "df_features.drop(['ID','EnrollmentStart','EnrollmentFinish'], axis=1, inplace=True)"
   ]
  },
  {
   "cell_type": "code",
   "execution_count": null,
   "id": "ec5c29c2-6c17-437a-adc3-e6ca709feba2",
   "metadata": {},
   "outputs": [],
   "source": [
    "df_features.drop('DateLastVisit',axis=1,inplace=True)"
   ]
  },
  {
   "cell_type": "code",
   "execution_count": null,
   "id": "4f451276-c6e7-44e7-a687-55772475cddf",
   "metadata": {},
   "outputs": [],
   "source": [
    "df_features.dtypes"
   ]
  },
  {
   "cell_type": "code",
   "execution_count": null,
   "id": "c243b587-ad9e-4d30-ac20-7e4cba2c0b5e",
   "metadata": {},
   "outputs": [],
   "source": [
    "metric_features = ['Age', 'Income', 'DaysWithoutFrequency', 'LifetimeValue', 'NumberOfFrequencies',\n",
    "                   'AttendedClasses', 'AllowedWeeklyVisitsBySLA', 'AllowedNumberOfVisitsBySLA',\n",
    "                   'RealNumberOfVisits', 'NumberOfRenewals', 'NumberOfReferences','EnrollmentPeriod']\n",
    "bin_features = ['Gender', 'UseByTime', 'AthleticsActivities', 'WaterActivities',\n",
    "                'FitnessActivities', 'TeamActivities', 'RacketActivities',\n",
    "                'CombatActivities', 'SpecialActivities', 'OtherActivities',\n",
    "                'HasReferences', 'Dropout']"
   ]
  },
  {
   "cell_type": "markdown",
   "id": "d6a0555e-44f2-4dbb-8520-d464d3480661",
   "metadata": {},
   "source": [
    "## Scaling"
   ]
  },
  {
   "cell_type": "markdown",
   "id": "e280fdbf-b3b4-4dc7-bab8-338422feca1a",
   "metadata": {},
   "source": [
    "__Use MinMaxScaler to scale the data:__"
   ]
  },
  {
   "cell_type": "code",
   "execution_count": null,
   "id": "46ff452a-eb09-4f11-af19-3eb23d0254ae",
   "metadata": {},
   "outputs": [],
   "source": [
    "df_minmax = df_features.copy()"
   ]
  },
  {
   "cell_type": "code",
   "execution_count": null,
   "id": "90f12896-6745-4da8-8275-1d3b76666b77",
   "metadata": {},
   "outputs": [],
   "source": [
    "scaler = MinMaxScaler()\n",
    "df_minmax[metric_features] = scaler.fit_transform(df_minmax[metric_features])\n",
    "df_minmax.head()"
   ]
  },
  {
   "cell_type": "code",
   "execution_count": null,
   "id": "937d8eca-2277-4b9f-9b3e-23a87e3083bf",
   "metadata": {},
   "outputs": [],
   "source": [
    "# Checking max and min of minmaxed variables\n",
    "df_minmax[metric_features].describe().round(2).T"
   ]
  },
  {
   "cell_type": "markdown",
   "id": "91a57853-5f74-4853-813c-b6afbb90dd3c",
   "metadata": {},
   "source": [
    "__Use StandardScaler to scale the data:__"
   ]
  },
  {
   "cell_type": "code",
   "execution_count": null,
   "id": "caf330f7-790c-4ec3-8ee0-198c5db3ec5c",
   "metadata": {},
   "outputs": [],
   "source": [
    "df_standard = df_features.copy()"
   ]
  },
  {
   "cell_type": "code",
   "execution_count": null,
   "id": "ab50c521-f93c-4518-adf0-f00c8b437b09",
   "metadata": {},
   "outputs": [],
   "source": [
    "scaler = StandardScaler()  # Standardize features by removing the mean and scaling to unit variance.\n",
    "df_standard[metric_features] = scaler.fit_transform(df_standard[metric_features])\n",
    "df_standard.head()"
   ]
  },
  {
   "cell_type": "code",
   "execution_count": null,
   "id": "eb301c2f-4fa7-48fe-bb16-2740f7b90406",
   "metadata": {},
   "outputs": [],
   "source": [
    "# Checking mean and variance of standardized variables\n",
    "df_standard[metric_features].describe().round(2).T"
   ]
  },
  {
   "cell_type": "code",
   "execution_count": null,
   "id": "146ec354-1a6e-498d-9dc0-6a4c989c4cd0",
   "metadata": {},
   "outputs": [],
   "source": [
    "df_mm_cluster = df_minmax.copy()"
   ]
  },
  {
   "cell_type": "markdown",
   "id": "54d15451-1265-4eac-a103-eeb86b41e523",
   "metadata": {},
   "source": [
    "# Clustering"
   ]
  },
  {
   "cell_type": "markdown",
   "id": "65b67533-07f0-4470-bddb-8a29ce483496",
   "metadata": {},
   "source": [
    "## Hierarchical Clustering"
   ]
  },
  {
   "cell_type": "code",
   "execution_count": null,
   "id": "3e755835-c2e5-42e5-86f1-1ac8efce6f3a",
   "metadata": {},
   "outputs": [],
   "source": [
    "# Performing HC\n",
    "hclust = AgglomerativeClustering(linkage='ward', metric='euclidean', n_clusters=5)\n",
    "hc_labels = hclust.fit_predict(df_mm_cluster[metric_features])\n",
    "hc_labels"
   ]
  },
  {
   "cell_type": "code",
   "execution_count": null,
   "id": "8a94deb3-c238-4f20-8710-feadc8de4de1",
   "metadata": {},
   "outputs": [],
   "source": [
    "Counter(hc_labels)"
   ]
  },
  {
   "cell_type": "code",
   "execution_count": null,
   "id": "4816922d-0f8c-470a-a4ce-4a0529a201aa",
   "metadata": {},
   "outputs": [],
   "source": [
    "# Characterizing the clusters\n",
    "df_concat = pd.concat((df_mm_cluster, pd.Series(hc_labels, name='labels', index=df_mm_cluster.index)), axis=1)\n",
    "df_concat.groupby('labels').mean()"
   ]
  },
  {
   "cell_type": "markdown",
   "id": "e6003d9b-4e8c-4953-803d-d98f7defb311",
   "metadata": {},
   "source": [
    "### Defining the linkage method to choose:"
   ]
  },
  {
   "cell_type": "code",
   "execution_count": null,
   "id": "25e36d89-b053-44f5-8d49-1191f2fe74ef",
   "metadata": {},
   "outputs": [],
   "source": [
    "# Computing SST\n",
    "X = df_mm_cluster[metric_features].values\n",
    "sst = np.sum(np.square(X - X.mean(axis=0)), axis=0)\n",
    "\n",
    "# Computing SSW\n",
    "ssw_iter = []\n",
    "for i in np.unique(hc_labels):\n",
    "    X_k = X[hc_labels == i]\n",
    "    ssw_iter.append(np.sum(np.square(X_k - X_k.mean(axis=0)), axis=0))\n",
    "ssw = np.sum(ssw_iter, axis=0)\n",
    "\n",
    "# Computing SSB\n",
    "ssb_iter = []\n",
    "for i in np.unique(hc_labels):\n",
    "    X_k = X[hc_labels == i]\n",
    "    ssb_iter.append(X_k.shape[0] * np.square(X_k.mean(axis=0) - X.mean(axis=0)))\n",
    "ssb = np.sum(ssb_iter, axis=0)\n",
    "\n",
    "# Verifying the formula\n",
    "np.round(sst) == np.round((ssw + ssb))"
   ]
  },
  {
   "cell_type": "code",
   "execution_count": null,
   "id": "bba61fda-b063-466f-84a6-fa9a2b9d0775",
   "metadata": {},
   "outputs": [],
   "source": [
    "def get_r2_hc(df, link_method, max_nclus, min_nclus=1, dist=\"euclidean\"):\n",
    "    \"\"\"\n",
    "    This function computes the R2 for a set of cluster solutions given by the application of a hierarchical method.\n",
    "    The R2 is a measure of the homogenity of a cluster solution. It is based on SSt = SSw + SSb and R2 = SSb/SSt. \n",
    "    \n",
    "    Parameters:\n",
    "    df (DataFrame): Dataset to apply clustering\n",
    "    link_method (str): either \"ward\", \"complete\", \"average\", \"single\"\n",
    "    max_nclus (int): maximum number of clusters to compare the methods\n",
    "    min_nclus (int): minimum number of clusters to compare the methods. Defaults to 1.\n",
    "    dist (str): distance to use to compute the clustering solution. Must be a valid distance. Defaults to \"euclidean\".\n",
    "    \n",
    "    Returns:\n",
    "    ndarray: R2 values for the range of cluster solutions\n",
    "    \"\"\"\n",
    "    def get_ss(df):\n",
    "        ss = np.sum(df.var() * (df.count() - 1))\n",
    "        return ss  # return sum of sum of squares of each df variable\n",
    "    \n",
    "    sst = get_ss(df)  # get total sum of squares\n",
    "    \n",
    "    r2 = []  # where we will store the R2 metrics for each cluster solution\n",
    "    \n",
    "    for i in range(min_nclus, max_nclus+1):  # iterate over desired ncluster range\n",
    "        cluster = AgglomerativeClustering(n_clusters=i, metric=dist, linkage=link_method)\n",
    "                \n",
    "        # get cluster labels\n",
    "        hclabels = cluster.fit_predict(df) \n",
    "        \n",
    "        # concat df with labels\n",
    "        df_concat = pd.concat((df, pd.Series(hclabels, name='labels', index=df.index)), axis=1)  \n",
    "        \n",
    "        # compute ssw for each cluster labels\n",
    "        ssw_labels = df_concat.groupby(by='labels').apply(get_ss)  \n",
    "        \n",
    "        # remember: SST = SSW + SSB\n",
    "        ssb = sst - np.sum(ssw_labels)  \n",
    "\n",
    "        # append the R2 of the given cluster solution\n",
    "        r2.append(ssb/sst) \n",
    "        \n",
    "    return np.array(r2)"
   ]
  },
  {
   "cell_type": "code",
   "execution_count": null,
   "id": "646db497-f067-423e-a760-4d8ff925dd98",
   "metadata": {},
   "outputs": [],
   "source": [
    "get_r2_hc(df_mm_cluster[metric_features], 'ward', max_nclus=3, min_nclus=1, dist='euclidean')"
   ]
  },
  {
   "cell_type": "code",
   "execution_count": null,
   "id": "692c0a15-bf30-4c5a-88ef-13414ef73a5f",
   "metadata": {},
   "outputs": [],
   "source": [
    "# Prepare input\n",
    "hc_methods = [\"ward\", \"complete\", \"average\", \"single\"]\n",
    "\n",
    "# Call function defined above to obtain the R2 statistic for each hc_method\n",
    "max_nclus = 10\n",
    "r2_hc_methods = np.vstack(\n",
    "    [get_r2_hc(df=df_mm_cluster[metric_features], link_method=link, max_nclus=max_nclus) \n",
    "     for link in hc_methods] ).T\n",
    "r2_hc_methods = pd.DataFrame(r2_hc_methods, index=range(1, max_nclus + 1), columns=hc_methods)\n",
    "\n",
    "sns.set()\n",
    "\n",
    "# Plot data\n",
    "fig = plt.figure(figsize=(11,5))\n",
    "sns.lineplot(data=r2_hc_methods, linewidth=2.5, markers=[\"o\"]*4)\n",
    "\n",
    "# Finalize the plot\n",
    "fig.suptitle(\"R2 plot for various hierarchical methods\", fontsize=21)\n",
    "plt.gca().invert_xaxis()  # invert x axis\n",
    "plt.legend(title=\"HC methods\", title_fontsize=11)\n",
    "plt.xticks(range(1, max_nclus + 1))\n",
    "plt.xlabel(\"Number of clusters\", fontsize=13)\n",
    "plt.ylabel(\"R2 metric\", fontsize=13)\n",
    "\n",
    "plt.show()"
   ]
  },
  {
   "cell_type": "markdown",
   "id": "807e10fe-b3df-4e1b-b0f2-79f1bc7b59e8",
   "metadata": {},
   "source": [
    "### Defining the number of clusters:\n",
    "\n",
    "Where is the **first big jump** on the Dendrogram?"
   ]
  },
  {
   "cell_type": "code",
   "execution_count": null,
   "id": "4f2012d1-89cd-4f9f-95f9-cad167ee7e43",
   "metadata": {},
   "outputs": [],
   "source": [
    "# setting distance_threshold=0 and n_clusters=None ensures we compute the full tree\n",
    "linkage = 'ward'\n",
    "distance = 'euclidean'\n",
    "\n",
    "# define the clusterer\n",
    "hclust = AgglomerativeClustering(linkage=linkage, metric=distance, distance_threshold=0, n_clusters=None)\n",
    "hclust.fit_predict(df_mm_cluster[metric_features])"
   ]
  },
  {
   "cell_type": "code",
   "execution_count": null,
   "id": "ba37f9d4-9e22-40e0-ae01-37d71e308b8b",
   "metadata": {},
   "outputs": [],
   "source": [
    "# create the counts of samples under each node (number of points being merged)\n",
    "counts = np.zeros(hclust.children_.shape[0])\n",
    "n_samples = len(hclust.labels_)\n",
    "\n",
    "# hclust.children_ contains the observation ids that are being merged together\n",
    "# At the i-th iteration, children[i][0] and children[i][1] are merged to form node n_samples + i\n",
    "for i, merge in enumerate(hclust.children_):\n",
    "    # track the number of observations in the current cluster being formed\n",
    "    current_count = 0\n",
    "    for child_idx in merge:\n",
    "        if child_idx < n_samples:\n",
    "            # If this is True, then we are merging an observation\n",
    "            current_count += 1  # leaf node\n",
    "        else:\n",
    "            # Otherwise, we are merging a previously formed cluster\n",
    "            current_count += counts[child_idx - n_samples]\n",
    "    counts[i] = current_count\n",
    "\n",
    "# the hclust.children_ is used to indicate the two points/clusters being merged (dendrogram's u-joins)\n",
    "# the hclust.distances_ indicates the distance between the two points/clusters (height of the u-joins)\n",
    "# the counts indicate the number of points being merged (dendrogram's x-axis)\n",
    "linkage_matrix = np.column_stack(\n",
    "    [hclust.children_, hclust.distances_, counts]\n",
    ").astype(float)\n",
    "\n",
    "# Plot the corresponding dendrogram\n",
    "sns.set()\n",
    "fig = plt.figure(figsize=(11,5))\n",
    "# The Dendrogram parameters need to be tuned\n",
    "y_threshold = 100\n",
    "dendrogram(linkage_matrix, truncate_mode='level', p=5, color_threshold=y_threshold, above_threshold_color='k')\n",
    "plt.hlines(y_threshold, 0, 1000, colors=\"r\", linestyles=\"dashed\")\n",
    "plt.title(f'Hierarchical Clustering - {linkage.title()}\\'s Dendrogram', fontsize=21)\n",
    "plt.xlabel('Number of points in node (or index of point if no parenthesis)')\n",
    "plt.ylabel(f'{distance.title()} Distance', fontsize=13)\n",
    "plt.show()"
   ]
  },
  {
   "cell_type": "markdown",
   "id": "f8801bdc-97fd-46aa-9b82-5208a62c0e35",
   "metadata": {},
   "source": [
    "### Test cluster solutions"
   ]
  },
  {
   "cell_type": "code",
   "execution_count": null,
   "id": "569611ad-40a8-46eb-9505-3e247533ea31",
   "metadata": {},
   "outputs": [],
   "source": [
    "# 4 cluster solution\n",
    "linkage = 'ward'\n",
    "distance = 'euclidean'\n",
    "hc4lust = AgglomerativeClustering(linkage=linkage, metric=distance, n_clusters=4)\n",
    "hc4_labels = hc4lust.fit_predict(df_mm_cluster[metric_features])"
   ]
  },
  {
   "cell_type": "code",
   "execution_count": null,
   "id": "b49e102a-0a31-4fed-a8cc-ba123fe549f7",
   "metadata": {},
   "outputs": [],
   "source": [
    "# Characterizing the 4 clusters\n",
    "df_concat = pd.concat((df_mm_cluster, pd.Series(hc4_labels, name='labels', index=df_mm_cluster.index)), axis=1)\n",
    "df_concat.groupby('labels').mean()"
   ]
  },
  {
   "cell_type": "code",
   "execution_count": null,
   "id": "11356df3-407f-40a1-a214-8fb169ae20dd",
   "metadata": {},
   "outputs": [],
   "source": [
    "# 5 cluster solution\n",
    "linkage = 'ward'\n",
    "distance = 'euclidean'\n",
    "hc5lust = AgglomerativeClustering(linkage=linkage, metric=distance, n_clusters=5)\n",
    "hc5_labels = hc5lust.fit_predict(df_mm_cluster[metric_features])"
   ]
  },
  {
   "cell_type": "code",
   "execution_count": null,
   "id": "5b613e2e-20b7-49e9-95c2-5572e2be5322",
   "metadata": {},
   "outputs": [],
   "source": [
    "# Characterizing the 5 clusters\n",
    "df_concat = pd.concat((df_mm_cluster, pd.Series(hc5_labels, name='labels', index=df_mm_cluster.index)), axis=1)\n",
    "df_concat.groupby('labels').mean()"
   ]
  },
  {
   "cell_type": "code",
   "execution_count": null,
   "id": "e9321dcc-1001-4ef6-8cfa-845ddc7746ac",
   "metadata": {},
   "outputs": [],
   "source": [
    "# 4 cluster solution\n",
    "linkage = 'ward'\n",
    "distance = 'euclidean'\n",
    "hc6lust = AgglomerativeClustering(linkage=linkage, metric=distance, n_clusters=6)\n",
    "hc6_labels = hc6lust.fit_predict(df_mm_cluster[metric_features])"
   ]
  },
  {
   "cell_type": "code",
   "execution_count": null,
   "id": "fcdcc29c-b80a-4437-9f7b-eed3870efb1c",
   "metadata": {},
   "outputs": [],
   "source": [
    "# Characterizing the 5 clusters\n",
    "df_concat = pd.concat((df_mm_cluster, pd.Series(hc6_labels, name='labels', index=df_mm_cluster.index)), axis=1)\n",
    "df_concat.groupby('labels').mean()"
   ]
  },
  {
   "cell_type": "code",
   "execution_count": null,
   "id": "17235219-ca98-4ff4-b527-a867a97d1afe",
   "metadata": {},
   "outputs": [],
   "source": [
    "# Let's put both HC4 and HC5 labels in the same df to compare\n",
    "df_hc4_hc5 = pd.concat((df_mm_cluster,\n",
    "                        pd.Series(hc4_labels, name='hc4_labels', index=df_mm_cluster.index),\n",
    "                        pd.Series(hc5_labels, name='hc5_labels', index=df_mm_cluster.index)\n",
    "                        ), axis=1)"
   ]
  },
  {
   "cell_type": "code",
   "execution_count": null,
   "id": "f75d3691-34a1-4523-8d85-3e530a6e21c6",
   "metadata": {},
   "outputs": [],
   "source": [
    "# See crosstab of 4 vs 5\n",
    "pd.crosstab(df_hc4_hc5['hc5_labels'],\n",
    "           df_hc4_hc5['hc4_labels'])"
   ]
  },
  {
   "cell_type": "markdown",
   "id": "f60f11f0-c9a0-40b4-8080-4676973f117f",
   "metadata": {},
   "source": [
    "### Final Hierarchical clustering solution"
   ]
  },
  {
   "cell_type": "code",
   "execution_count": null,
   "id": "b514b547-9cda-413b-9dec-8a65a0d04faa",
   "metadata": {},
   "outputs": [],
   "source": [
    "# final cluster solution\n",
    "linkage = 'ward'\n",
    "distance = 'euclidean'\n",
    "hclust = AgglomerativeClustering(linkage=linkage, metric=distance, n_clusters=5)\n",
    "hc_labels = hclust.fit_predict(df_mm_cluster[metric_features])"
   ]
  },
  {
   "cell_type": "code",
   "execution_count": null,
   "id": "918fbdee-e0b1-4c70-acdd-5aeead1a3569",
   "metadata": {},
   "outputs": [],
   "source": [
    "# Characterizing the final clusters\n",
    "df_concat = pd.concat((df_mm_cluster, pd.Series(hc_labels, name='labels', index=df.index)), axis=1)\n",
    "df_concat.groupby('labels').mean()"
   ]
  },
  {
   "cell_type": "code",
   "execution_count": null,
   "id": "f13dc697-58c8-4e9d-b8b9-4219f1a7486e",
   "metadata": {},
   "outputs": [],
   "source": [
    "cluster_means = df_concat.groupby('labels').mean()[metric_features].T\n",
    "cluster_means.style.format(precision=2).background_gradient(axis=1)"
   ]
  }
 ],
 "metadata": {
  "kernelspec": {
   "display_name": "Python 3 (ipykernel)",
   "language": "python",
   "name": "python3"
  },
  "language_info": {
   "codemirror_mode": {
    "name": "ipython",
    "version": 3
   },
   "file_extension": ".py",
   "mimetype": "text/x-python",
   "name": "python",
   "nbconvert_exporter": "python",
   "pygments_lexer": "ipython3",
   "version": "3.11.5"
  }
 },
 "nbformat": 4,
 "nbformat_minor": 5
}
